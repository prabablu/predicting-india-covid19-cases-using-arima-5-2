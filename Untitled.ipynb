{
 "cells": [
  {
   "cell_type": "code",
   "execution_count": 343,
   "metadata": {},
   "outputs": [],
   "source": [
    "import numpy as np\n",
    "import pandas as pd\n",
    "import matplotlib.pyplot as plt\n",
    "%matplotlib inline\n",
    "import warnings\n",
    "warnings.filterwarnings('ignore')"
   ]
  },
  {
   "cell_type": "code",
   "execution_count": 344,
   "metadata": {},
   "outputs": [],
   "source": [
    "covid_df=pd.read_csv('data.csv')"
   ]
  },
  {
   "cell_type": "code",
   "execution_count": 345,
   "metadata": {},
   "outputs": [
    {
     "data": {
      "text/html": [
       "<div>\n",
       "<style scoped>\n",
       "    .dataframe tbody tr th:only-of-type {\n",
       "        vertical-align: middle;\n",
       "    }\n",
       "\n",
       "    .dataframe tbody tr th {\n",
       "        vertical-align: top;\n",
       "    }\n",
       "\n",
       "    .dataframe thead th {\n",
       "        text-align: right;\n",
       "    }\n",
       "</style>\n",
       "<table border=\"1\" class=\"dataframe\">\n",
       "  <thead>\n",
       "    <tr style=\"text-align: right;\">\n",
       "      <th></th>\n",
       "      <th>Date</th>\n",
       "      <th>Name of State / UT</th>\n",
       "      <th>Latitude</th>\n",
       "      <th>Longitude</th>\n",
       "      <th>Total Confirmed cases</th>\n",
       "      <th>Death</th>\n",
       "      <th>Cured/Discharged/Migrated</th>\n",
       "    </tr>\n",
       "  </thead>\n",
       "  <tbody>\n",
       "    <tr>\n",
       "      <th>0</th>\n",
       "      <td>2020-01-30</td>\n",
       "      <td>Kerala</td>\n",
       "      <td>10.8505</td>\n",
       "      <td>76.2711</td>\n",
       "      <td>1</td>\n",
       "      <td>0</td>\n",
       "      <td>0</td>\n",
       "    </tr>\n",
       "    <tr>\n",
       "      <th>1</th>\n",
       "      <td>2020-01-31</td>\n",
       "      <td>Kerala</td>\n",
       "      <td>10.8505</td>\n",
       "      <td>76.2711</td>\n",
       "      <td>1</td>\n",
       "      <td>0</td>\n",
       "      <td>0</td>\n",
       "    </tr>\n",
       "    <tr>\n",
       "      <th>2</th>\n",
       "      <td>2020-02-01</td>\n",
       "      <td>Kerala</td>\n",
       "      <td>10.8505</td>\n",
       "      <td>76.2711</td>\n",
       "      <td>2</td>\n",
       "      <td>0</td>\n",
       "      <td>0</td>\n",
       "    </tr>\n",
       "    <tr>\n",
       "      <th>3</th>\n",
       "      <td>2020-02-02</td>\n",
       "      <td>Kerala</td>\n",
       "      <td>10.8505</td>\n",
       "      <td>76.2711</td>\n",
       "      <td>3</td>\n",
       "      <td>0</td>\n",
       "      <td>0</td>\n",
       "    </tr>\n",
       "    <tr>\n",
       "      <th>4</th>\n",
       "      <td>2020-02-03</td>\n",
       "      <td>Kerala</td>\n",
       "      <td>10.8505</td>\n",
       "      <td>76.2711</td>\n",
       "      <td>3</td>\n",
       "      <td>0</td>\n",
       "      <td>0</td>\n",
       "    </tr>\n",
       "  </tbody>\n",
       "</table>\n",
       "</div>"
      ],
      "text/plain": [
       "         Date Name of State / UT  Latitude  Longitude  Total Confirmed cases  \\\n",
       "0  2020-01-30             Kerala   10.8505    76.2711                      1   \n",
       "1  2020-01-31             Kerala   10.8505    76.2711                      1   \n",
       "2  2020-02-01             Kerala   10.8505    76.2711                      2   \n",
       "3  2020-02-02             Kerala   10.8505    76.2711                      3   \n",
       "4  2020-02-03             Kerala   10.8505    76.2711                      3   \n",
       "\n",
       "   Death  Cured/Discharged/Migrated  \n",
       "0      0                          0  \n",
       "1      0                          0  \n",
       "2      0                          0  \n",
       "3      0                          0  \n",
       "4      0                          0  "
      ]
     },
     "execution_count": 345,
     "metadata": {},
     "output_type": "execute_result"
    }
   ],
   "source": [
    "covid_df.head()"
   ]
  },
  {
   "cell_type": "code",
   "execution_count": 346,
   "metadata": {},
   "outputs": [],
   "source": [
    "covid_df=covid_df.rename(columns={\"Total Confirmed cases\": \"confirmed\"})\n",
    "conf_case_df=covid_df.groupby(['Date'],as_index=False).confirmed.sum()"
   ]
  },
  {
   "cell_type": "code",
   "execution_count": 347,
   "metadata": {},
   "outputs": [
    {
     "data": {
      "text/plain": [
       "<matplotlib.axes._subplots.AxesSubplot at 0x270ca0479b0>"
      ]
     },
     "execution_count": 347,
     "metadata": {},
     "output_type": "execute_result"
    },
    {
     "data": {
      "image/png": "[encoded data removed]",
      "text/plain": [
       "<Figure size 432x288 with 1 Axes>"
      ]
     },
     "metadata": {
      "needs_background": "light"
     },
     "output_type": "display_data"
    }
   ],
   "source": [
    "time_s_df_conf=conf_case_df.set_index('Date')\n",
    "time_s_df_conf.plot()"
   ]
  },
  {
   "cell_type": "code",
   "execution_count": 348,
   "metadata": {},
   "outputs": [],
   "source": [
    "death_case_df=covid_df.groupby(['Date'],as_index=False).Death.sum()"
   ]
  },
  {
   "cell_type": "code",
   "execution_count": 349,
   "metadata": {
    "scrolled": true
   },
   "outputs": [
    {
     "data": {
      "text/html": [
       "<div>\n",
       "<style scoped>\n",
       "    .dataframe tbody tr th:only-of-type {\n",
       "        vertical-align: middle;\n",
       "    }\n",
       "\n",
       "    .dataframe tbody tr th {\n",
       "        vertical-align: top;\n",
       "    }\n",
       "\n",
       "    .dataframe thead th {\n",
       "        text-align: right;\n",
       "    }\n",
       "</style>\n",
       "<table border=\"1\" class=\"dataframe\">\n",
       "  <thead>\n",
       "    <tr style=\"text-align: right;\">\n",
       "      <th></th>\n",
       "      <th>Date</th>\n",
       "      <th>Death</th>\n",
       "    </tr>\n",
       "  </thead>\n",
       "  <tbody>\n",
       "    <tr>\n",
       "      <th>0</th>\n",
       "      <td>2020-01-30</td>\n",
       "      <td>0</td>\n",
       "    </tr>\n",
       "    <tr>\n",
       "      <th>1</th>\n",
       "      <td>2020-01-31</td>\n",
       "      <td>0</td>\n",
       "    </tr>\n",
       "    <tr>\n",
       "      <th>2</th>\n",
       "      <td>2020-02-01</td>\n",
       "      <td>0</td>\n",
       "    </tr>\n",
       "    <tr>\n",
       "      <th>3</th>\n",
       "      <td>2020-02-02</td>\n",
       "      <td>0</td>\n",
       "    </tr>\n",
       "    <tr>\n",
       "      <th>4</th>\n",
       "      <td>2020-02-03</td>\n",
       "      <td>0</td>\n",
       "    </tr>\n",
       "  </tbody>\n",
       "</table>\n",
       "</div>"
      ],
      "text/plain": [
       "         Date  Death\n",
       "0  2020-01-30      0\n",
       "1  2020-01-31      0\n",
       "2  2020-02-01      0\n",
       "3  2020-02-02      0\n",
       "4  2020-02-03      0"
      ]
     },
     "execution_count": 349,
     "metadata": {},
     "output_type": "execute_result"
    }
   ],
   "source": [
    "death_case_df.head()"
   ]
  },
  {
   "cell_type": "code",
   "execution_count": 350,
   "metadata": {},
   "outputs": [
    {
     "data": {
      "text/plain": [
       "<matplotlib.axes._subplots.AxesSubplot at 0x270cc31fdd8>"
      ]
     },
     "execution_count": 350,
     "metadata": {},
     "output_type": "execute_result"
    },
    {
     "data": {
      "image/png": "[encoded data removed]",
      "text/plain": [
       "<Figure size 432x288 with 1 Axes>"
      ]
     },
     "metadata": {
      "needs_background": "light"
     },
     "output_type": "display_data"
    }
   ],
   "source": [
    "time_s_df_Death=death_case_df.set_index('Date')\n",
    "time_s_df_Death.plot()"
   ]
  },
  {
   "cell_type": "code",
   "execution_count": 351,
   "metadata": {},
   "outputs": [],
   "source": [
    "covid_df=covid_df.rename(columns={\"Cured/Discharged/Migrated\": \"Migrated\"})\n",
    "Migrated_case_df=covid_df.groupby(['Date'],as_index=False).Migrated.sum()"
   ]
  },
  {
   "cell_type": "code",
   "execution_count": 352,
   "metadata": {},
   "outputs": [
    {
     "data": {
      "text/html": [
       "<div>\n",
       "<style scoped>\n",
       "    .dataframe tbody tr th:only-of-type {\n",
       "        vertical-align: middle;\n",
       "    }\n",
       "\n",
       "    .dataframe tbody tr th {\n",
       "        vertical-align: top;\n",
       "    }\n",
       "\n",
       "    .dataframe thead th {\n",
       "        text-align: right;\n",
       "    }\n",
       "</style>\n",
       "<table border=\"1\" class=\"dataframe\">\n",
       "  <thead>\n",
       "    <tr style=\"text-align: right;\">\n",
       "      <th></th>\n",
       "      <th>Date</th>\n",
       "      <th>Migrated</th>\n",
       "    </tr>\n",
       "  </thead>\n",
       "  <tbody>\n",
       "    <tr>\n",
       "      <th>0</th>\n",
       "      <td>2020-01-30</td>\n",
       "      <td>0</td>\n",
       "    </tr>\n",
       "    <tr>\n",
       "      <th>1</th>\n",
       "      <td>2020-01-31</td>\n",
       "      <td>0</td>\n",
       "    </tr>\n",
       "    <tr>\n",
       "      <th>2</th>\n",
       "      <td>2020-02-01</td>\n",
       "      <td>0</td>\n",
       "    </tr>\n",
       "    <tr>\n",
       "      <th>3</th>\n",
       "      <td>2020-02-02</td>\n",
       "      <td>0</td>\n",
       "    </tr>\n",
       "    <tr>\n",
       "      <th>4</th>\n",
       "      <td>2020-02-03</td>\n",
       "      <td>0</td>\n",
       "    </tr>\n",
       "    <tr>\n",
       "      <th>...</th>\n",
       "      <td>...</td>\n",
       "      <td>...</td>\n",
       "    </tr>\n",
       "    <tr>\n",
       "      <th>124</th>\n",
       "      <td>2020-06-02</td>\n",
       "      <td>95527</td>\n",
       "    </tr>\n",
       "    <tr>\n",
       "      <th>125</th>\n",
       "      <td>2020-06-03</td>\n",
       "      <td>100303</td>\n",
       "    </tr>\n",
       "    <tr>\n",
       "      <th>126</th>\n",
       "      <td>2020-06-04</td>\n",
       "      <td>104107</td>\n",
       "    </tr>\n",
       "    <tr>\n",
       "      <th>127</th>\n",
       "      <td>2020-06-05</td>\n",
       "      <td>109462</td>\n",
       "    </tr>\n",
       "    <tr>\n",
       "      <th>128</th>\n",
       "      <td>2020-06-06</td>\n",
       "      <td>114073</td>\n",
       "    </tr>\n",
       "  </tbody>\n",
       "</table>\n",
       "<p>129 rows × 2 columns</p>\n",
       "</div>"
      ],
      "text/plain": [
       "           Date  Migrated\n",
       "0    2020-01-30         0\n",
       "1    2020-01-31         0\n",
       "2    2020-02-01         0\n",
       "3    2020-02-02         0\n",
       "4    2020-02-03         0\n",
       "..          ...       ...\n",
       "124  2020-06-02     95527\n",
       "125  2020-06-03    100303\n",
       "126  2020-06-04    104107\n",
       "127  2020-06-05    109462\n",
       "128  2020-06-06    114073\n",
       "\n",
       "[129 rows x 2 columns]"
      ]
     },
     "execution_count": 352,
     "metadata": {},
     "output_type": "execute_result"
    }
   ],
   "source": [
    "Migrated_case_df"
   ]
  },
  {
   "cell_type": "code",
   "execution_count": 353,
   "metadata": {},
   "outputs": [
    {
     "data": {
      "text/plain": [
       "<matplotlib.axes._subplots.AxesSubplot at 0x270cc2d52b0>"
      ]
     },
     "execution_count": 353,
     "metadata": {},
     "output_type": "execute_result"
    },
    {
     "data": {
      "image/png": "[encoded data removed]",
      "text/plain": [
       "<Figure size 432x288 with 1 Axes>"
      ]
     },
     "metadata": {
      "needs_background": "light"
     },
     "output_type": "display_data"
    }
   ],
   "source": [
    "time_s_df_migrated=Migrated_case_df.set_index('Date')\n",
    "time_s_df_migrated.plot()"
   ]
  },
  {
   "cell_type": "code",
   "execution_count": 354,
   "metadata": {},
   "outputs": [
    {
     "data": {
      "text/html": [
       "<div>\n",
       "<style scoped>\n",
       "    .dataframe tbody tr th:only-of-type {\n",
       "        vertical-align: middle;\n",
       "    }\n",
       "\n",
       "    .dataframe tbody tr th {\n",
       "        vertical-align: top;\n",
       "    }\n",
       "\n",
       "    .dataframe thead th {\n",
       "        text-align: right;\n",
       "    }\n",
       "</style>\n",
       "<table border=\"1\" class=\"dataframe\">\n",
       "  <thead>\n",
       "    <tr style=\"text-align: right;\">\n",
       "      <th></th>\n",
       "      <th>Migrated</th>\n",
       "    </tr>\n",
       "    <tr>\n",
       "      <th>Date</th>\n",
       "      <th></th>\n",
       "    </tr>\n",
       "  </thead>\n",
       "  <tbody>\n",
       "    <tr>\n",
       "      <th>2020-01-30</th>\n",
       "      <td>0</td>\n",
       "    </tr>\n",
       "    <tr>\n",
       "      <th>2020-01-31</th>\n",
       "      <td>0</td>\n",
       "    </tr>\n",
       "    <tr>\n",
       "      <th>2020-02-01</th>\n",
       "      <td>0</td>\n",
       "    </tr>\n",
       "    <tr>\n",
       "      <th>2020-02-02</th>\n",
       "      <td>0</td>\n",
       "    </tr>\n",
       "    <tr>\n",
       "      <th>2020-02-03</th>\n",
       "      <td>0</td>\n",
       "    </tr>\n",
       "  </tbody>\n",
       "</table>\n",
       "</div>"
      ],
      "text/plain": [
       "            Migrated\n",
       "Date                \n",
       "2020-01-30         0\n",
       "2020-01-31         0\n",
       "2020-02-01         0\n",
       "2020-02-02         0\n",
       "2020-02-03         0"
      ]
     },
     "execution_count": 354,
     "metadata": {},
     "output_type": "execute_result"
    }
   ],
   "source": [
    "time_s_df_migrated.head()"
   ]
  },
  {
   "cell_type": "markdown",
   "metadata": {},
   "source": [
    "##  So our Data Look  like not a Seasonal"
   ]
  },
  {
   "cell_type": "code",
   "execution_count": 355,
   "metadata": {},
   "outputs": [
    {
     "data": {
      "text/plain": [
       "(           confirmed\n",
       " count     129.000000\n",
       " mean    35337.751938\n",
       " std     57869.663781\n",
       " min         1.000000\n",
       " 25%         5.000000\n",
       " 50%      2283.000000\n",
       " 75%     46433.000000\n",
       " max    228465.000000,\n",
       "              Death\n",
       " count   129.000000\n",
       " mean   1077.155039\n",
       " std    1715.098182\n",
       " min       0.000000\n",
       " 25%       0.000000\n",
       " 50%      56.000000\n",
       " 75%    1568.000000\n",
       " max    6642.000000,\n",
       "             Migrated\n",
       " count     129.000000\n",
       " mean    14125.906977\n",
       " std     27244.124190\n",
       " min         0.000000\n",
       " 25%         0.000000\n",
       " 50%       157.000000\n",
       " 75%     12727.000000\n",
       " max    114073.000000)"
      ]
     },
     "execution_count": 355,
     "metadata": {},
     "output_type": "execute_result"
    }
   ],
   "source": [
    "(time_s_df_conf.describe(),time_s_df_Death.describe(),time_s_df_migrated.describe())"
   ]
  },
  {
   "cell_type": "markdown",
   "metadata": {},
   "source": [
    "##      First we Take Confirmed Cases from Covid Data of India"
   ]
  },
  {
   "cell_type": "markdown",
   "metadata": {},
   "source": [
    "## Testing For Stationarity"
   ]
  },
  {
   "cell_type": "code",
   "execution_count": 356,
   "metadata": {},
   "outputs": [],
   "source": [
    "from statsmodels.tsa.stattools import adfuller"
   ]
  },
  {
   "cell_type": "code",
   "execution_count": 357,
   "metadata": {},
   "outputs": [
    {
     "data": {
      "text/plain": [
       "(-2.856746651175929,\n",
       " 0.05061392885667395,\n",
       " 13,\n",
       " 115,\n",
       " {'1%': -3.4885349695076844,\n",
       "  '5%': -2.887019521656941,\n",
       "  '10%': -2.5803597920604915},\n",
       " 1640.0558599010149)"
      ]
     },
     "execution_count": 357,
     "metadata": {},
     "output_type": "execute_result"
    }
   ],
   "source": [
    "test_result=adfuller(conf_case_df.confirmed)\n",
    "test_result"
   ]
  },
  {
   "cell_type": "code",
   "execution_count": 358,
   "metadata": {},
   "outputs": [],
   "source": [
    "#Ho: It is non stationary\n",
    "#H1: It is stationary\n",
    "\n",
    "def adfuller_test(Total):\n",
    "    result=adfuller(Total)\n",
    "    labels = ['ADF Test Statistic','p-value','#Lags Used','Number of Observations Used']\n",
    "    for value,label in zip(result,labels):\n",
    "        print(label+' : '+str(value) )\n",
    "    if result[1] <= 0.05:\n",
    "        print(\"strong evidence against the null hypothesis(Ho), reject the null hypothesis. Data has no unit root and is stationary\")\n",
    "    else:\n",
    "        print(\"weak evidence against null hypothesis, time series has a unit root, indicating it is non-stationary \")\n"
   ]
  },
  {
   "cell_type": "code",
   "execution_count": 359,
   "metadata": {},
   "outputs": [
    {
     "name": "stdout",
     "output_type": "stream",
     "text": [
      "ADF Test Statistic : -1.5122418543232812\n",
      "p-value : 0.5274470107780005\n",
      "#Lags Used : 28\n",
      "Number of Observations Used : 2676\n",
      "weak evidence against null hypothesis, time series has a unit root, indicating it is non-stationary \n"
     ]
    }
   ],
   "source": [
    "adfuller_test(covid_df['confirmed'])"
   ]
  },
  {
   "cell_type": "code",
   "execution_count": 360,
   "metadata": {},
   "outputs": [],
   "source": [
    "## Over Data is non-stationary\n",
    "## we take 2nd Diff"
   ]
  },
  {
   "cell_type": "code",
   "execution_count": 361,
   "metadata": {},
   "outputs": [],
   "source": [
    "covid_df['2nd_Diff']=covid_df['confirmed']-covid_df['confirmed'].shift(2)"
   ]
  },
  {
   "cell_type": "code",
   "execution_count": 362,
   "metadata": {},
   "outputs": [
    {
     "data": {
      "text/html": [
       "<div>\n",
       "<style scoped>\n",
       "    .dataframe tbody tr th:only-of-type {\n",
       "        vertical-align: middle;\n",
       "    }\n",
       "\n",
       "    .dataframe tbody tr th {\n",
       "        vertical-align: top;\n",
       "    }\n",
       "\n",
       "    .dataframe thead th {\n",
       "        text-align: right;\n",
       "    }\n",
       "</style>\n",
       "<table border=\"1\" class=\"dataframe\">\n",
       "  <thead>\n",
       "    <tr style=\"text-align: right;\">\n",
       "      <th></th>\n",
       "      <th>Date</th>\n",
       "      <th>Name of State / UT</th>\n",
       "      <th>Latitude</th>\n",
       "      <th>Longitude</th>\n",
       "      <th>confirmed</th>\n",
       "      <th>Death</th>\n",
       "      <th>Migrated</th>\n",
       "      <th>2nd_Diff</th>\n",
       "    </tr>\n",
       "  </thead>\n",
       "  <tbody>\n",
       "    <tr>\n",
       "      <th>0</th>\n",
       "      <td>2020-01-30</td>\n",
       "      <td>Kerala</td>\n",
       "      <td>10.8505</td>\n",
       "      <td>76.2711</td>\n",
       "      <td>1</td>\n",
       "      <td>0</td>\n",
       "      <td>0</td>\n",
       "      <td>NaN</td>\n",
       "    </tr>\n",
       "    <tr>\n",
       "      <th>1</th>\n",
       "      <td>2020-01-31</td>\n",
       "      <td>Kerala</td>\n",
       "      <td>10.8505</td>\n",
       "      <td>76.2711</td>\n",
       "      <td>1</td>\n",
       "      <td>0</td>\n",
       "      <td>0</td>\n",
       "      <td>NaN</td>\n",
       "    </tr>\n",
       "    <tr>\n",
       "      <th>2</th>\n",
       "      <td>2020-02-01</td>\n",
       "      <td>Kerala</td>\n",
       "      <td>10.8505</td>\n",
       "      <td>76.2711</td>\n",
       "      <td>2</td>\n",
       "      <td>0</td>\n",
       "      <td>0</td>\n",
       "      <td>1.0</td>\n",
       "    </tr>\n",
       "    <tr>\n",
       "      <th>3</th>\n",
       "      <td>2020-02-02</td>\n",
       "      <td>Kerala</td>\n",
       "      <td>10.8505</td>\n",
       "      <td>76.2711</td>\n",
       "      <td>3</td>\n",
       "      <td>0</td>\n",
       "      <td>0</td>\n",
       "      <td>2.0</td>\n",
       "    </tr>\n",
       "    <tr>\n",
       "      <th>4</th>\n",
       "      <td>2020-02-03</td>\n",
       "      <td>Kerala</td>\n",
       "      <td>10.8505</td>\n",
       "      <td>76.2711</td>\n",
       "      <td>3</td>\n",
       "      <td>0</td>\n",
       "      <td>0</td>\n",
       "      <td>1.0</td>\n",
       "    </tr>\n",
       "  </tbody>\n",
       "</table>\n",
       "</div>"
      ],
      "text/plain": [
       "         Date Name of State / UT  Latitude  Longitude  confirmed  Death  \\\n",
       "0  2020-01-30             Kerala   10.8505    76.2711          1      0   \n",
       "1  2020-01-31             Kerala   10.8505    76.2711          1      0   \n",
       "2  2020-02-01             Kerala   10.8505    76.2711          2      0   \n",
       "3  2020-02-02             Kerala   10.8505    76.2711          3      0   \n",
       "4  2020-02-03             Kerala   10.8505    76.2711          3      0   \n",
       "\n",
       "   Migrated  2nd_Diff  \n",
       "0         0       NaN  \n",
       "1         0       NaN  \n",
       "2         0       1.0  \n",
       "3         0       2.0  \n",
       "4         0       1.0  "
      ]
     },
     "execution_count": 362,
     "metadata": {},
     "output_type": "execute_result"
    }
   ],
   "source": [
    "covid_df.head()"
   ]
  },
  {
   "cell_type": "code",
   "execution_count": 363,
   "metadata": {},
   "outputs": [],
   "source": [
    "## Again test"
   ]
  },
  {
   "cell_type": "code",
   "execution_count": 364,
   "metadata": {},
   "outputs": [
    {
     "name": "stdout",
     "output_type": "stream",
     "text": [
      "ADF Test Statistic : -26.183028891774626\n",
      "p-value : 0.0\n",
      "#Lags Used : 27\n",
      "Number of Observations Used : 2675\n",
      "strong evidence against the null hypothesis(Ho), reject the null hypothesis. Data has no unit root and is stationary\n"
     ]
    }
   ],
   "source": [
    "adfuller_test(covid_df['2nd_Diff'].dropna())"
   ]
  },
  {
   "cell_type": "code",
   "execution_count": 368,
   "metadata": {},
   "outputs": [],
   "source": [
    "\n"
   ]
  },
  {
   "cell_type": "code",
   "execution_count": 369,
   "metadata": {},
   "outputs": [
    {
     "data": {
      "text/plain": [
       "<matplotlib.axes._subplots.AxesSubplot at 0x270cc1f9668>"
      ]
     },
     "execution_count": 369,
     "metadata": {},
     "output_type": "execute_result"
    },
    {
     "data": {
      "image/png": "[encoded data removed]",
      "text/plain": [
       "<Figure size 432x288 with 1 Axes>"
      ]
     },
     "metadata": {
      "needs_background": "light"
     },
     "output_type": "display_data"
    }
   ],
   "source": [
    "covid_df['2nd_Diff'].dropna().plot()"
   ]
  },
  {
   "cell_type": "code",
   "execution_count": 289,
   "metadata": {},
   "outputs": [
    {
     "data": {
      "image/png": "[encoded data removed]",
      "text/plain": [
       "<Figure size 432x288 with 1 Axes>"
      ]
     },
     "metadata": {
      "needs_background": "light"
     },
     "output_type": "display_data"
    }
   ],
   "source": [
    "from pandas.plotting import autocorrelation_plot\n",
    "autocorrelation_plot(covid_df.confirmed)\n",
    "plt.show()"
   ]
  },
  {
   "cell_type": "code",
   "execution_count": 290,
   "metadata": {},
   "outputs": [],
   "source": [
    "from statsmodels.graphics.tsaplots import plot_acf,plot_pacf\n",
    "import statsmodels.api as sm"
   ]
  },
  {
   "cell_type": "code",
   "execution_count": 291,
   "metadata": {},
   "outputs": [
    {
     "data": {
      "image/png": "[encoded data removed]",
      "text/plain": [
       "<Figure size 864x576 with 2 Axes>"
      ]
     },
     "metadata": {
      "needs_background": "light"
     },
     "output_type": "display_data"
    }
   ],
   "source": [
    "fig = plt.figure(figsize=(12,8))\n",
    "ax1 = fig.add_subplot(211)\n",
    "fig = sm.graphics.tsa.plot_acf(covid_df['2nd_Diff'].iloc[3:],lags=40,ax=ax1)\n",
    "ax2 = fig.add_subplot(212)\n",
    "fig = sm.graphics.tsa.plot_pacf(covid_df['2nd_Diff'].iloc[3:],lags=40,ax=ax2)"
   ]
  },
  {
   "cell_type": "code",
   "execution_count": 292,
   "metadata": {},
   "outputs": [],
   "source": [
    "from statsmodels.tsa.arima_model import ARIMA"
   ]
  },
  {
   "cell_type": "code",
   "execution_count": 293,
   "metadata": {},
   "outputs": [],
   "source": [
    "p_values=range(0,6)\n",
    "d_value=range(0,6)\n",
    "q_values=range(0,6)"
   ]
  },
  {
   "cell_type": "code",
   "execution_count": 294,
   "metadata": {},
   "outputs": [],
   "source": [
    "import warnings\n",
    "warnings.filterwarnings('ignore')"
   ]
  },
  {
   "cell_type": "code",
   "execution_count": 295,
   "metadata": {},
   "outputs": [],
   "source": [
    "from sklearn.metrics import mean_squared_error\n",
    "import numpy as np"
   ]
  },
  {
   "cell_type": "code",
   "execution_count": 296,
   "metadata": {},
   "outputs": [
    {
     "name": "stdout",
     "output_type": "stream",
     "text": [
      "ARIMA(0, 0, 1) RMSE=109331.53\n",
      "ARIMA(0, 0, 2) RMSE=95740.83\n",
      "ARIMA(0, 0, 3) RMSE=93537.22\n",
      "ARIMA(0, 0, 4) RMSE=87977.42\n",
      "ARIMA(0, 0, 5) RMSE=87839.26\n",
      "ARIMA(0, 1, 1) RMSE=86169.91\n",
      "ARIMA(0, 1, 2) RMSE=86333.82\n",
      "ARIMA(0, 1, 3) RMSE=85570.69\n",
      "ARIMA(0, 1, 4) RMSE=86301.77\n",
      "ARIMA(0, 2, 1) RMSE=85330.39\n",
      "ARIMA(0, 2, 2) RMSE=85442.05\n",
      "ARIMA(0, 2, 3) RMSE=85439.98\n",
      "ARIMA(0, 2, 4) RMSE=85380.62\n",
      "ARIMA(0, 2, 5) RMSE=85156.60\n",
      "ARIMA(1, 0, 0) RMSE=88131.83\n",
      "ARIMA(1, 1, 0) RMSE=85456.52\n",
      "ARIMA(1, 1, 3) RMSE=85536.48\n",
      "ARIMA(1, 2, 0) RMSE=85324.96\n",
      "ARIMA(1, 2, 1) RMSE=85298.98\n",
      "ARIMA(1, 2, 2) RMSE=85441.12\n",
      "ARIMA(1, 2, 3) RMSE=85349.15\n",
      "ARIMA(1, 2, 4) RMSE=85385.99\n",
      "ARIMA(1, 2, 5) RMSE=85172.46\n",
      "ARIMA(2, 1, 0) RMSE=85383.25\n",
      "ARIMA(2, 2, 0) RMSE=85242.77\n",
      "ARIMA(2, 2, 1) RMSE=85161.71\n",
      "ARIMA(2, 2, 2) RMSE=85302.65\n",
      "ARIMA(2, 2, 3) RMSE=85339.13\n",
      "ARIMA(2, 2, 4) RMSE=85414.59\n",
      "ARIMA(3, 1, 0) RMSE=85324.95\n",
      "ARIMA(3, 2, 0) RMSE=85144.29\n",
      "ARIMA(3, 2, 1) RMSE=85165.42\n",
      "ARIMA(3, 2, 2) RMSE=85355.35\n",
      "ARIMA(3, 2, 3) RMSE=85294.92\n",
      "ARIMA(3, 2, 4) RMSE=83966.33\n",
      "ARIMA(4, 1, 0) RMSE=85164.83\n",
      "ARIMA(4, 2, 0) RMSE=85269.92\n",
      "ARIMA(4, 2, 1) RMSE=85302.66\n",
      "ARIMA(4, 2, 2) RMSE=85395.92\n",
      "ARIMA(5, 1, 0) RMSE=85334.11\n",
      "ARIMA(5, 2, 0) RMSE=85354.89\n",
      "ARIMA(5, 2, 1) RMSE=85403.88\n",
      "ARIMA(5, 2, 2) RMSE=85362.99\n"
     ]
    }
   ],
   "source": [
    "for p in p_values:\n",
    "    for d in d_value:\n",
    "        for q in q_values:\n",
    "            order=(p,d,q)\n",
    "            train,test=time_s_df_conf[0:101],time_s_df_conf[101:129]\n",
    "            predications=list()\n",
    "            for i in range(len(test)):\n",
    "                try:\n",
    "                    model=ARIMA(train,order)\n",
    "                    model_fit=model.fit(disp=0)\n",
    "                    pred_y=model_fit.forecast()[0]\n",
    "                    predications.append(pred_y)\n",
    "                    error=np.sqrt(mean_squared_error(test,predications))\n",
    "                    print('ARIMA%s RMSE=%.2f'%(order,error))\n",
    "                except:\n",
    "                    continue\n",
    "                    \n",
    "                    \n",
    "          "
   ]
  },
  {
   "cell_type": "code",
   "execution_count": 297,
   "metadata": {},
   "outputs": [],
   "source": [
    "# For non-seasonal data\n",
    "#p=3, d=2, q=0 or 1\n",
    "from statsmodels.tsa.arima_model import ARIMA"
   ]
  },
  {
   "cell_type": "code",
   "execution_count": 298,
   "metadata": {},
   "outputs": [],
   "source": [
    "model=ARIMA(train,order=(3,2,0))\n",
    "model_fit=model.fit()"
   ]
  },
  {
   "cell_type": "code",
   "execution_count": 299,
   "metadata": {},
   "outputs": [
    {
     "data": {
      "text/html": [
       "<table class=\"simpletable\">\n",
       "<caption>ARIMA Model Results</caption>\n",
       "<tr>\n",
       "  <th>Dep. Variable:</th>   <td>D2.confirmed</td>   <th>  No. Observations:  </th>    <td>99</td>   \n",
       "</tr>\n",
       "<tr>\n",
       "  <th>Model:</th>          <td>ARIMA(3, 2, 0)</td>  <th>  Log Likelihood     </th> <td>-673.207</td>\n",
       "</tr>\n",
       "<tr>\n",
       "  <th>Method:</th>             <td>css-mle</td>     <th>  S.D. of innovations</th>  <td>216.127</td>\n",
       "</tr>\n",
       "<tr>\n",
       "  <th>Date:</th>          <td>Wed, 10 Jun 2020</td> <th>  AIC                </th> <td>1356.413</td>\n",
       "</tr>\n",
       "<tr>\n",
       "  <th>Time:</th>              <td>22:31:14</td>     <th>  BIC                </th> <td>1369.389</td>\n",
       "</tr>\n",
       "<tr>\n",
       "  <th>Sample:</th>           <td>02-01-2020</td>    <th>  HQIC               </th> <td>1361.663</td>\n",
       "</tr>\n",
       "<tr>\n",
       "  <th></th>                 <td>- 05-09-2020</td>   <th>                     </th>     <td> </td>   \n",
       "</tr>\n",
       "</table>\n",
       "<table class=\"simpletable\">\n",
       "<tr>\n",
       "           <td></td>             <th>coef</th>     <th>std err</th>      <th>z</th>      <th>P>|z|</th>  <th>[0.025</th>    <th>0.975]</th>  \n",
       "</tr>\n",
       "<tr>\n",
       "  <th>const</th>              <td>   34.8306</td> <td>   14.939</td> <td>    2.332</td> <td> 0.020</td> <td>    5.551</td> <td>   64.111</td>\n",
       "</tr>\n",
       "<tr>\n",
       "  <th>ar.L1.D2.confirmed</th> <td>   -0.6650</td> <td>    0.094</td> <td>   -7.061</td> <td> 0.000</td> <td>   -0.850</td> <td>   -0.480</td>\n",
       "</tr>\n",
       "<tr>\n",
       "  <th>ar.L2.D2.confirmed</th> <td>   -0.1162</td> <td>    0.115</td> <td>   -1.012</td> <td> 0.311</td> <td>   -0.341</td> <td>    0.109</td>\n",
       "</tr>\n",
       "<tr>\n",
       "  <th>ar.L3.D2.confirmed</th> <td>    0.3279</td> <td>    0.095</td> <td>    3.452</td> <td> 0.001</td> <td>    0.142</td> <td>    0.514</td>\n",
       "</tr>\n",
       "</table>\n",
       "<table class=\"simpletable\">\n",
       "<caption>Roots</caption>\n",
       "<tr>\n",
       "    <td></td>   <th>            Real</th>  <th>         Imaginary</th> <th>         Modulus</th>  <th>        Frequency</th>\n",
       "</tr>\n",
       "<tr>\n",
       "  <th>AR.1</th> <td>          -0.8522</td> <td>          -0.8689j</td> <td>           1.2170</td> <td>          -0.3735</td>\n",
       "</tr>\n",
       "<tr>\n",
       "  <th>AR.2</th> <td>          -0.8522</td> <td>          +0.8689j</td> <td>           1.2170</td> <td>           0.3735</td>\n",
       "</tr>\n",
       "<tr>\n",
       "  <th>AR.3</th> <td>           2.0587</td> <td>          -0.0000j</td> <td>           2.0587</td> <td>          -0.0000</td>\n",
       "</tr>\n",
       "</table>"
      ],
      "text/plain": [
       "<class 'statsmodels.iolib.summary.Summary'>\n",
       "\"\"\"\n",
       "                             ARIMA Model Results                              \n",
       "==============================================================================\n",
       "Dep. Variable:           D2.confirmed   No. Observations:                   99\n",
       "Model:                 ARIMA(3, 2, 0)   Log Likelihood                -673.207\n",
       "Method:                       css-mle   S.D. of innovations            216.127\n",
       "Date:                Wed, 10 Jun 2020   AIC                           1356.413\n",
       "Time:                        22:31:14   BIC                           1369.389\n",
       "Sample:                    02-01-2020   HQIC                          1361.663\n",
       "                         - 05-09-2020                                         \n",
       "======================================================================================\n",
       "                         coef    std err          z      P>|z|      [0.025      0.975]\n",
       "--------------------------------------------------------------------------------------\n",
       "const                 34.8306     14.939      2.332      0.020       5.551      64.111\n",
       "ar.L1.D2.confirmed    -0.6650      0.094     -7.061      0.000      -0.850      -0.480\n",
       "ar.L2.D2.confirmed    -0.1162      0.115     -1.012      0.311      -0.341       0.109\n",
       "ar.L3.D2.confirmed     0.3279      0.095      3.452      0.001       0.142       0.514\n",
       "                                    Roots                                    \n",
       "=============================================================================\n",
       "                  Real          Imaginary           Modulus         Frequency\n",
       "-----------------------------------------------------------------------------\n",
       "AR.1           -0.8522           -0.8689j            1.2170           -0.3735\n",
       "AR.2           -0.8522           +0.8689j            1.2170            0.3735\n",
       "AR.3            2.0587           -0.0000j            2.0587           -0.0000\n",
       "-----------------------------------------------------------------------------\n",
       "\"\"\""
      ]
     },
     "execution_count": 299,
     "metadata": {},
     "output_type": "execute_result"
    }
   ],
   "source": [
    "model_fit.summary()"
   ]
  },
  {
   "cell_type": "code",
   "execution_count": 300,
   "metadata": {},
   "outputs": [
    {
     "data": {
      "image/png": "[encoded data removed]",
      "text/plain": [
       "<Figure size 432x288 with 1 Axes>"
      ]
     },
     "metadata": {
      "needs_background": "light"
     },
     "output_type": "display_data"
    },
    {
     "data": {
      "image/png": "[encoded data removed]",
      "text/plain": [
       "<Figure size 432x288 with 1 Axes>"
      ]
     },
     "metadata": {
      "needs_background": "light"
     },
     "output_type": "display_data"
    }
   ],
   "source": [
    "from statsmodels.graphics.tsaplots import plot_acf, plot_pacf\n",
    "from matplotlib import pyplot\n",
    "residuals = pd.DataFrame(model_fit.resid)\n",
    "residuals.plot()\n",
    "pyplot.show()\n",
    "residuals.plot(kind='kde')\n",
    "pyplot.show()"
   ]
  },
  {
   "cell_type": "code",
   "execution_count": null,
   "metadata": {},
   "outputs": [],
   "source": [
    "\n"
   ]
  },
  {
   "cell_type": "code",
   "execution_count": 301,
   "metadata": {
    "scrolled": true
   },
   "outputs": [],
   "source": [
    "conf_for_next_5_day=pd.DataFrame(model_fit.forecast(34))\n"
   ]
  },
  {
   "cell_type": "code",
   "execution_count": 302,
   "metadata": {},
   "outputs": [
    {
     "data": {
      "text/html": [
       "<div>\n",
       "<style scoped>\n",
       "    .dataframe tbody tr th:only-of-type {\n",
       "        vertical-align: middle;\n",
       "    }\n",
       "\n",
       "    .dataframe tbody tr th {\n",
       "        vertical-align: top;\n",
       "    }\n",
       "\n",
       "    .dataframe thead th {\n",
       "        text-align: right;\n",
       "    }\n",
       "</style>\n",
       "<table border=\"1\" class=\"dataframe\">\n",
       "  <thead>\n",
       "    <tr style=\"text-align: right;\">\n",
       "      <th></th>\n",
       "      <th>0</th>\n",
       "      <th>1</th>\n",
       "      <th>2</th>\n",
       "      <th>3</th>\n",
       "      <th>4</th>\n",
       "      <th>5</th>\n",
       "      <th>6</th>\n",
       "      <th>7</th>\n",
       "      <th>8</th>\n",
       "      <th>9</th>\n",
       "      <th>...</th>\n",
       "      <th>24</th>\n",
       "      <th>25</th>\n",
       "      <th>26</th>\n",
       "      <th>27</th>\n",
       "      <th>28</th>\n",
       "      <th>29</th>\n",
       "      <th>30</th>\n",
       "      <th>31</th>\n",
       "      <th>32</th>\n",
       "      <th>33</th>\n",
       "    </tr>\n",
       "  </thead>\n",
       "  <tbody>\n",
       "    <tr>\n",
       "      <th>0</th>\n",
       "      <td>63296.8</td>\n",
       "      <td>66724.9</td>\n",
       "      <td>70281.5</td>\n",
       "      <td>73930.6</td>\n",
       "      <td>77486.1</td>\n",
       "      <td>81185.8</td>\n",
       "      <td>84881.5</td>\n",
       "      <td>88583</td>\n",
       "      <td>92379</td>\n",
       "      <td>96160.7</td>\n",
       "      <td>...</td>\n",
       "      <td>157333</td>\n",
       "      <td>161689</td>\n",
       "      <td>166080</td>\n",
       "      <td>170507</td>\n",
       "      <td>174967</td>\n",
       "      <td>179463</td>\n",
       "      <td>183994</td>\n",
       "      <td>188559</td>\n",
       "      <td>193160</td>\n",
       "      <td>197795</td>\n",
       "    </tr>\n",
       "    <tr>\n",
       "      <th>1</th>\n",
       "      <td>216.127</td>\n",
       "      <td>360.506</td>\n",
       "      <td>562.202</td>\n",
       "      <td>833.238</td>\n",
       "      <td>1098.73</td>\n",
       "      <td>1414.31</td>\n",
       "      <td>1755.03</td>\n",
       "      <td>2108.94</td>\n",
       "      <td>2498.02</td>\n",
       "      <td>2901.44</td>\n",
       "      <td>...</td>\n",
       "      <td>11018</td>\n",
       "      <td>11673.9</td>\n",
       "      <td>12342.3</td>\n",
       "      <td>13023.1</td>\n",
       "      <td>13715.9</td>\n",
       "      <td>14420.6</td>\n",
       "      <td>15137</td>\n",
       "      <td>15864.8</td>\n",
       "      <td>16604</td>\n",
       "      <td>17354.3</td>\n",
       "    </tr>\n",
       "    <tr>\n",
       "      <th>2</th>\n",
       "      <td>[62873.18032861694, 63720.38242131424]</td>\n",
       "      <td>[66018.33878185076, 67431.49802228599]</td>\n",
       "      <td>[69179.65364728648, 71383.444321993]</td>\n",
       "      <td>[72297.47836644389, 75563.71006441372]</td>\n",
       "      <td>[75332.63946164667, 79639.57277285101]</td>\n",
       "      <td>[78413.84239710963, 83957.81772804234]</td>\n",
       "      <td>[81441.64880704878, 88321.25156197995]</td>\n",
       "      <td>[84449.54799677078, 92716.42207428555]</td>\n",
       "      <td>[87482.95259831303, 97274.99347770862]</td>\n",
       "      <td>[90474.01876385455, 101847.45494899884]</td>\n",
       "      <td>...</td>\n",
       "      <td>[135738.10940055206, 178927.96777920198]</td>\n",
       "      <td>[138808.50188941782, 184569.37098333018]</td>\n",
       "      <td>[141889.65645562866, 190270.51474449996]</td>\n",
       "      <td>[144982.0960497137, 196031.70707953357]</td>\n",
       "      <td>[148084.694385333, 201849.90926167864]</td>\n",
       "      <td>[151199.60470017418, 207727.1997089836]</td>\n",
       "      <td>[154326.25941441645, 213662.08859792224]</td>\n",
       "      <td>[157464.9388967175, 219653.8060621363]</td>\n",
       "      <td>[160616.74356284528, 225703.20397927833]</td>\n",
       "      <td>[163781.20381587057, 231808.83592400176]</td>\n",
       "    </tr>\n",
       "  </tbody>\n",
       "</table>\n",
       "<p>3 rows × 34 columns</p>\n",
       "</div>"
      ],
      "text/plain": [
       "                                       0   \\\n",
       "0                                 63296.8   \n",
       "1                                 216.127   \n",
       "2  [62873.18032861694, 63720.38242131424]   \n",
       "\n",
       "                                       1   \\\n",
       "0                                 66724.9   \n",
       "1                                 360.506   \n",
       "2  [66018.33878185076, 67431.49802228599]   \n",
       "\n",
       "                                     2   \\\n",
       "0                               70281.5   \n",
       "1                               562.202   \n",
       "2  [69179.65364728648, 71383.444321993]   \n",
       "\n",
       "                                       3   \\\n",
       "0                                 73930.6   \n",
       "1                                 833.238   \n",
       "2  [72297.47836644389, 75563.71006441372]   \n",
       "\n",
       "                                       4   \\\n",
       "0                                 77486.1   \n",
       "1                                 1098.73   \n",
       "2  [75332.63946164667, 79639.57277285101]   \n",
       "\n",
       "                                       5   \\\n",
       "0                                 81185.8   \n",
       "1                                 1414.31   \n",
       "2  [78413.84239710963, 83957.81772804234]   \n",
       "\n",
       "                                       6   \\\n",
       "0                                 84881.5   \n",
       "1                                 1755.03   \n",
       "2  [81441.64880704878, 88321.25156197995]   \n",
       "\n",
       "                                       7   \\\n",
       "0                                   88583   \n",
       "1                                 2108.94   \n",
       "2  [84449.54799677078, 92716.42207428555]   \n",
       "\n",
       "                                       8   \\\n",
       "0                                   92379   \n",
       "1                                 2498.02   \n",
       "2  [87482.95259831303, 97274.99347770862]   \n",
       "\n",
       "                                        9   ...  \\\n",
       "0                                  96160.7  ...   \n",
       "1                                  2901.44  ...   \n",
       "2  [90474.01876385455, 101847.45494899884]  ...   \n",
       "\n",
       "                                         24  \\\n",
       "0                                    157333   \n",
       "1                                     11018   \n",
       "2  [135738.10940055206, 178927.96777920198]   \n",
       "\n",
       "                                         25  \\\n",
       "0                                    161689   \n",
       "1                                   11673.9   \n",
       "2  [138808.50188941782, 184569.37098333018]   \n",
       "\n",
       "                                         26  \\\n",
       "0                                    166080   \n",
       "1                                   12342.3   \n",
       "2  [141889.65645562866, 190270.51474449996]   \n",
       "\n",
       "                                        27  \\\n",
       "0                                   170507   \n",
       "1                                  13023.1   \n",
       "2  [144982.0960497137, 196031.70707953357]   \n",
       "\n",
       "                                       28  \\\n",
       "0                                  174967   \n",
       "1                                 13715.9   \n",
       "2  [148084.694385333, 201849.90926167864]   \n",
       "\n",
       "                                        29  \\\n",
       "0                                   179463   \n",
       "1                                  14420.6   \n",
       "2  [151199.60470017418, 207727.1997089836]   \n",
       "\n",
       "                                         30  \\\n",
       "0                                    183994   \n",
       "1                                     15137   \n",
       "2  [154326.25941441645, 213662.08859792224]   \n",
       "\n",
       "                                       31  \\\n",
       "0                                  188559   \n",
       "1                                 15864.8   \n",
       "2  [157464.9388967175, 219653.8060621363]   \n",
       "\n",
       "                                         32  \\\n",
       "0                                    193160   \n",
       "1                                     16604   \n",
       "2  [160616.74356284528, 225703.20397927833]   \n",
       "\n",
       "                                         33  \n",
       "0                                    197795  \n",
       "1                                   17354.3  \n",
       "2  [163781.20381587057, 231808.83592400176]  \n",
       "\n",
       "[3 rows x 34 columns]"
      ]
     },
     "execution_count": 302,
     "metadata": {},
     "output_type": "execute_result"
    }
   ],
   "source": [
    "conf_for_next_5_day"
   ]
  },
  {
   "cell_type": "code",
   "execution_count": 303,
   "metadata": {},
   "outputs": [
    {
     "data": {
      "image/png": "[encoded data removed]",
      "text/plain": [
       "<Figure size 432x288 with 1 Axes>"
      ]
     },
     "metadata": {
      "needs_background": "light"
     },
     "output_type": "display_data"
    }
   ],
   "source": [
    "forecast = model_fit.forecast(steps=28)[0]\n",
    "\n",
    "forecast = pd.DataFrame(forecast,index = test.index,columns=['confirmed'])\n",
    "\n",
    "#plot the predictions for validation set\n",
    "plt.plot(train, label='Train')\n",
    "plt.plot(test, label='Test')\n",
    "plt.plot(forecast, label='Prediction', color='black')\n",
    "plt.show()"
   ]
  },
  {
   "cell_type": "code",
   "execution_count": 304,
   "metadata": {},
   "outputs": [
    {
     "data": {
      "text/html": [
       "<div>\n",
       "<style scoped>\n",
       "    .dataframe tbody tr th:only-of-type {\n",
       "        vertical-align: middle;\n",
       "    }\n",
       "\n",
       "    .dataframe tbody tr th {\n",
       "        vertical-align: top;\n",
       "    }\n",
       "\n",
       "    .dataframe thead th {\n",
       "        text-align: right;\n",
       "    }\n",
       "</style>\n",
       "<table border=\"1\" class=\"dataframe\">\n",
       "  <thead>\n",
       "    <tr style=\"text-align: right;\">\n",
       "      <th></th>\n",
       "      <th>confirmed</th>\n",
       "    </tr>\n",
       "    <tr>\n",
       "      <th>Date</th>\n",
       "      <th></th>\n",
       "    </tr>\n",
       "  </thead>\n",
       "  <tbody>\n",
       "    <tr>\n",
       "      <th>2020-06-02</th>\n",
       "      <td>192292</td>\n",
       "    </tr>\n",
       "    <tr>\n",
       "      <th>2020-06-03</th>\n",
       "      <td>200492</td>\n",
       "    </tr>\n",
       "    <tr>\n",
       "      <th>2020-06-04</th>\n",
       "      <td>209436</td>\n",
       "    </tr>\n",
       "    <tr>\n",
       "      <th>2020-06-05</th>\n",
       "      <td>219160</td>\n",
       "    </tr>\n",
       "    <tr>\n",
       "      <th>2020-06-06</th>\n",
       "      <td>228465</td>\n",
       "    </tr>\n",
       "  </tbody>\n",
       "</table>\n",
       "</div>"
      ],
      "text/plain": [
       "            confirmed\n",
       "Date                 \n",
       "2020-06-02     192292\n",
       "2020-06-03     200492\n",
       "2020-06-04     209436\n",
       "2020-06-05     219160\n",
       "2020-06-06     228465"
      ]
     },
     "execution_count": 304,
     "metadata": {},
     "output_type": "execute_result"
    }
   ],
   "source": [
    "time_s_df_conf.tail()"
   ]
  },
  {
   "cell_type": "markdown",
   "metadata": {},
   "source": [
    "##The last row gives us the range according to 95% confidence interval \n",
    "##, i will go for max suggesting 237324 cases in june 7 upto  281151.on \n",
    "##june   10th"
   ]
  },
  {
   "cell_type": "markdown",
   "metadata": {},
   "source": [
    "## 2nd We Will Take Death case  from Covid Data Of India Same as conf case"
   ]
  },
  {
   "cell_type": "code",
   "execution_count": 305,
   "metadata": {},
   "outputs": [
    {
     "data": {
      "text/plain": [
       "(-3.3734554842608633,\n",
       " 0.011897750189653817,\n",
       " 28,\n",
       " 2676,\n",
       " {'1%': -3.4327960328429366,\n",
       "  '5%': -2.862620675561911,\n",
       "  '10%': -2.5673452801573418},\n",
       " 34998.264472855095)"
      ]
     },
     "execution_count": 305,
     "metadata": {},
     "output_type": "execute_result"
    }
   ],
   "source": [
    "test_result=adfuller(covid_df.Death)\n",
    "test_result"
   ]
  },
  {
   "cell_type": "code",
   "execution_count": 306,
   "metadata": {},
   "outputs": [],
   "source": [
    "#Ho: It is non stationary\n",
    "#H1: It is stationary\n",
    "\n",
    "def adfuller_test(Total):\n",
    "    result=adfuller(Total)\n",
    "    labels = ['ADF Test Statistic','p-value','#Lags Used','Number of Observations Used']\n",
    "    for value,label in zip(result,labels):\n",
    "        print(label+' : '+str(value) )\n",
    "    if result[1] <= 0.05:\n",
    "        print(\"strong evidence against the null hypothesis(Ho), reject the null hypothesis. Data has no unit root and is stationary\")\n",
    "    else:\n",
    "        print(\"weak evidence against null hypothesis, time series has a unit root, indicating it is non-stationary \")\n"
   ]
  },
  {
   "cell_type": "code",
   "execution_count": 307,
   "metadata": {},
   "outputs": [
    {
     "name": "stdout",
     "output_type": "stream",
     "text": [
      "ADF Test Statistic : -3.3734554842608633\n",
      "p-value : 0.011897750189653817\n",
      "#Lags Used : 28\n",
      "Number of Observations Used : 2676\n",
      "strong evidence against the null hypothesis(Ho), reject the null hypothesis. Data has no unit root and is stationary\n"
     ]
    }
   ],
   "source": [
    "adfuller_test(covid_df['Death'])"
   ]
  },
  {
   "cell_type": "code",
   "execution_count": 308,
   "metadata": {},
   "outputs": [
    {
     "data": {
      "text/plain": [
       "<matplotlib.axes._subplots.AxesSubplot at 0x270ca01b0f0>"
      ]
     },
     "execution_count": 308,
     "metadata": {},
     "output_type": "execute_result"
    },
    {
     "data": {
      "image/png": "[encoded data removed]",
      "text/plain": [
       "<Figure size 432x288 with 1 Axes>"
      ]
     },
     "metadata": {
      "needs_background": "light"
     },
     "output_type": "display_data"
    }
   ],
   "source": [
    "covid_df['Death'].plot()"
   ]
  },
  {
   "cell_type": "code",
   "execution_count": 309,
   "metadata": {},
   "outputs": [
    {
     "data": {
      "image/png": "[encoded data removed]",
      "text/plain": [
       "<Figure size 432x288 with 1 Axes>"
      ]
     },
     "metadata": {
      "needs_background": "light"
     },
     "output_type": "display_data"
    }
   ],
   "source": [
    "from pandas.plotting import autocorrelation_plot\n",
    "autocorrelation_plot(covid_df.Death)\n",
    "plt.show()"
   ]
  },
  {
   "cell_type": "code",
   "execution_count": 310,
   "metadata": {},
   "outputs": [
    {
     "data": {
      "image/png": "[encoded data removed]",
      "text/plain": [
       "<Figure size 864x576 with 2 Axes>"
      ]
     },
     "metadata": {
      "needs_background": "light"
     },
     "output_type": "display_data"
    }
   ],
   "source": [
    "fig = plt.figure(figsize=(12,8))\n",
    "ax1 = fig.add_subplot(211)\n",
    "fig = sm.graphics.tsa.plot_acf(covid_df.Death.iloc[0:],lags=40,ax=ax1)\n",
    "ax2 = fig.add_subplot(212)\n",
    "fig = sm.graphics.tsa.plot_pacf(covid_df.Death.iloc[0:],lags=40,ax=ax2)"
   ]
  },
  {
   "cell_type": "code",
   "execution_count": 311,
   "metadata": {},
   "outputs": [],
   "source": [
    "p_values=range(0,6)\n",
    "d_value=range(0,6)\n",
    "q_values=range(0,6)\n",
    "import warnings\n",
    "warnings.filterwarnings('ignore')"
   ]
  },
  {
   "cell_type": "code",
   "execution_count": 312,
   "metadata": {},
   "outputs": [
    {
     "name": "stdout",
     "output_type": "stream",
     "text": [
      "ARIMA(0, 0, 1) RMSE=3113.63\n",
      "ARIMA(0, 0, 2) RMSE=2750.87\n",
      "ARIMA(0, 0, 3) RMSE=2615.75\n",
      "ARIMA(0, 0, 4) RMSE=2528.48\n",
      "ARIMA(0, 0, 5) RMSE=2365.59\n",
      "ARIMA(0, 1, 1) RMSE=2366.33\n",
      "ARIMA(0, 1, 2) RMSE=2361.78\n",
      "ARIMA(0, 1, 3) RMSE=2325.69\n",
      "ARIMA(0, 1, 4) RMSE=2409.69\n",
      "ARIMA(0, 2, 1) RMSE=2321.76\n",
      "ARIMA(0, 2, 2) RMSE=2322.11\n",
      "ARIMA(0, 2, 3) RMSE=2320.44\n",
      "ARIMA(0, 2, 4) RMSE=2314.48\n",
      "ARIMA(0, 2, 5) RMSE=2295.11\n",
      "ARIMA(1, 0, 0) RMSE=2409.66\n",
      "ARIMA(1, 1, 0) RMSE=2336.82\n",
      "ARIMA(1, 2, 0) RMSE=2326.53\n",
      "ARIMA(1, 2, 1) RMSE=2322.05\n",
      "ARIMA(1, 2, 2) RMSE=2320.28\n",
      "ARIMA(1, 2, 4) RMSE=2302.34\n",
      "ARIMA(2, 0, 0) RMSE=2335.31\n",
      "ARIMA(2, 1, 0) RMSE=2331.02\n",
      "ARIMA(2, 2, 0) RMSE=2328.78\n",
      "ARIMA(2, 2, 1) RMSE=2321.34\n",
      "ARIMA(3, 0, 0) RMSE=2328.49\n",
      "ARIMA(3, 1, 0) RMSE=2331.99\n",
      "ARIMA(3, 2, 0) RMSE=2324.28\n",
      "ARIMA(3, 2, 1) RMSE=2319.84\n",
      "ARIMA(4, 1, 0) RMSE=2342.71\n",
      "ARIMA(4, 2, 0) RMSE=2306.60\n",
      "ARIMA(4, 2, 1) RMSE=2311.17\n",
      "ARIMA(5, 1, 0) RMSE=2318.58\n",
      "ARIMA(5, 2, 0) RMSE=2327.56\n",
      "ARIMA(5, 2, 1) RMSE=2325.76\n",
      "ARIMA(5, 2, 2) RMSE=2310.41\n"
     ]
    }
   ],
   "source": [
    "for p in p_values:\n",
    "    for d in d_value:\n",
    "        for q in q_values:\n",
    "            order=(p,d,q)\n",
    "            train,test=time_s_df_Death[0:101],time_s_df_Death[101:129]\n",
    "            predications=list()\n",
    "            for i in range(len(test)):\n",
    "                try:\n",
    "                    model=ARIMA(train,order)\n",
    "                    model_fit=model.fit(disp=0)\n",
    "                    pred_y=model_fit.forecast()[0]\n",
    "                    predications.append(pred_y)\n",
    "                    error=np.sqrt(mean_squared_error(test,predications))\n",
    "                    print('ARIMA%s RMSE=%.2f'%(order,error))\n",
    "                except:\n",
    "                    continue\n",
    "                    \n",
    "                    \n",
    "                \n",
    "            "
   ]
  },
  {
   "cell_type": "code",
   "execution_count": 313,
   "metadata": {},
   "outputs": [],
   "source": [
    "model=ARIMA(train,order=(0,2,5))\n",
    "model_fit=model.fit()"
   ]
  },
  {
   "cell_type": "code",
   "execution_count": 314,
   "metadata": {},
   "outputs": [
    {
     "data": {
      "text/html": [
       "<table class=\"simpletable\">\n",
       "<caption>ARIMA Model Results</caption>\n",
       "<tr>\n",
       "  <th>Dep. Variable:</th>     <td>D2.Death</td>     <th>  No. Observations:  </th>    <td>99</td>   \n",
       "</tr>\n",
       "<tr>\n",
       "  <th>Model:</th>          <td>ARIMA(0, 2, 5)</td>  <th>  Log Likelihood     </th> <td>-399.508</td>\n",
       "</tr>\n",
       "<tr>\n",
       "  <th>Method:</th>             <td>css-mle</td>     <th>  S.D. of innovations</th>  <td>13.221</td> \n",
       "</tr>\n",
       "<tr>\n",
       "  <th>Date:</th>          <td>Wed, 10 Jun 2020</td> <th>  AIC                </th>  <td>813.017</td>\n",
       "</tr>\n",
       "<tr>\n",
       "  <th>Time:</th>              <td>22:34:54</td>     <th>  BIC                </th>  <td>831.182</td>\n",
       "</tr>\n",
       "<tr>\n",
       "  <th>Sample:</th>           <td>02-01-2020</td>    <th>  HQIC               </th>  <td>820.367</td>\n",
       "</tr>\n",
       "<tr>\n",
       "  <th></th>                 <td>- 05-09-2020</td>   <th>                     </th>     <td> </td>   \n",
       "</tr>\n",
       "</table>\n",
       "<table class=\"simpletable\">\n",
       "<tr>\n",
       "         <td></td>           <th>coef</th>     <th>std err</th>      <th>z</th>      <th>P>|z|</th>  <th>[0.025</th>    <th>0.975]</th>  \n",
       "</tr>\n",
       "<tr>\n",
       "  <th>const</th>          <td>    1.3498</td> <td>    0.631</td> <td>    2.140</td> <td> 0.032</td> <td>    0.114</td> <td>    2.586</td>\n",
       "</tr>\n",
       "<tr>\n",
       "  <th>ma.L1.D2.Death</th> <td>   -0.8401</td> <td>    0.091</td> <td>   -9.269</td> <td> 0.000</td> <td>   -1.018</td> <td>   -0.662</td>\n",
       "</tr>\n",
       "<tr>\n",
       "  <th>ma.L2.D2.Death</th> <td>   -0.1065</td> <td>    0.142</td> <td>   -0.751</td> <td> 0.453</td> <td>   -0.385</td> <td>    0.171</td>\n",
       "</tr>\n",
       "<tr>\n",
       "  <th>ma.L3.D2.Death</th> <td>    0.0097</td> <td>    0.109</td> <td>    0.089</td> <td> 0.929</td> <td>   -0.204</td> <td>    0.224</td>\n",
       "</tr>\n",
       "<tr>\n",
       "  <th>ma.L4.D2.Death</th> <td>    0.0196</td> <td>    0.146</td> <td>    0.135</td> <td> 0.893</td> <td>   -0.266</td> <td>    0.305</td>\n",
       "</tr>\n",
       "<tr>\n",
       "  <th>ma.L5.D2.Death</th> <td>    0.3983</td> <td>    0.092</td> <td>    4.320</td> <td> 0.000</td> <td>    0.218</td> <td>    0.579</td>\n",
       "</tr>\n",
       "</table>\n",
       "<table class=\"simpletable\">\n",
       "<caption>Roots</caption>\n",
       "<tr>\n",
       "    <td></td>   <th>            Real</th>  <th>         Imaginary</th> <th>         Modulus</th>  <th>        Frequency</th>\n",
       "</tr>\n",
       "<tr>\n",
       "  <th>MA.1</th> <td>           0.9239</td> <td>          -0.3826j</td> <td>           1.0000</td> <td>          -0.0625</td>\n",
       "</tr>\n",
       "<tr>\n",
       "  <th>MA.2</th> <td>           0.9239</td> <td>          +0.3826j</td> <td>           1.0000</td> <td>           0.0625</td>\n",
       "</tr>\n",
       "<tr>\n",
       "  <th>MA.3</th> <td>          -1.3813</td> <td>          -0.0000j</td> <td>           1.3813</td> <td>          -0.5000</td>\n",
       "</tr>\n",
       "<tr>\n",
       "  <th>MA.4</th> <td>          -0.2579</td> <td>          -1.3232j</td> <td>           1.3481</td> <td>          -0.2806</td>\n",
       "</tr>\n",
       "<tr>\n",
       "  <th>MA.5</th> <td>          -0.2579</td> <td>          +1.3232j</td> <td>           1.3481</td> <td>           0.2806</td>\n",
       "</tr>\n",
       "</table>"
      ],
      "text/plain": [
       "<class 'statsmodels.iolib.summary.Summary'>\n",
       "\"\"\"\n",
       "                             ARIMA Model Results                              \n",
       "==============================================================================\n",
       "Dep. Variable:               D2.Death   No. Observations:                   99\n",
       "Model:                 ARIMA(0, 2, 5)   Log Likelihood                -399.508\n",
       "Method:                       css-mle   S.D. of innovations             13.221\n",
       "Date:                Wed, 10 Jun 2020   AIC                            813.017\n",
       "Time:                        22:34:54   BIC                            831.182\n",
       "Sample:                    02-01-2020   HQIC                           820.367\n",
       "                         - 05-09-2020                                         \n",
       "==================================================================================\n",
       "                     coef    std err          z      P>|z|      [0.025      0.975]\n",
       "----------------------------------------------------------------------------------\n",
       "const              1.3498      0.631      2.140      0.032       0.114       2.586\n",
       "ma.L1.D2.Death    -0.8401      0.091     -9.269      0.000      -1.018      -0.662\n",
       "ma.L2.D2.Death    -0.1065      0.142     -0.751      0.453      -0.385       0.171\n",
       "ma.L3.D2.Death     0.0097      0.109      0.089      0.929      -0.204       0.224\n",
       "ma.L4.D2.Death     0.0196      0.146      0.135      0.893      -0.266       0.305\n",
       "ma.L5.D2.Death     0.3983      0.092      4.320      0.000       0.218       0.579\n",
       "                                    Roots                                    \n",
       "=============================================================================\n",
       "                  Real          Imaginary           Modulus         Frequency\n",
       "-----------------------------------------------------------------------------\n",
       "MA.1            0.9239           -0.3826j            1.0000           -0.0625\n",
       "MA.2            0.9239           +0.3826j            1.0000            0.0625\n",
       "MA.3           -1.3813           -0.0000j            1.3813           -0.5000\n",
       "MA.4           -0.2579           -1.3232j            1.3481           -0.2806\n",
       "MA.5           -0.2579           +1.3232j            1.3481            0.2806\n",
       "-----------------------------------------------------------------------------\n",
       "\"\"\""
      ]
     },
     "execution_count": 314,
     "metadata": {},
     "output_type": "execute_result"
    }
   ],
   "source": [
    "model_fit.summary()"
   ]
  },
  {
   "cell_type": "code",
   "execution_count": 315,
   "metadata": {},
   "outputs": [
    {
     "data": {
      "image/png": "[encoded data removed]",
      "text/plain": [
       "<Figure size 432x288 with 1 Axes>"
      ]
     },
     "metadata": {
      "needs_background": "light"
     },
     "output_type": "display_data"
    },
    {
     "data": {
      "image/png": "[encoded data removed]",
      "text/plain": [
       "<Figure size 432x288 with 1 Axes>"
      ]
     },
     "metadata": {
      "needs_background": "light"
     },
     "output_type": "display_data"
    }
   ],
   "source": [
    "from statsmodels.graphics.tsaplots import plot_acf, plot_pacf\n",
    "from matplotlib import pyplot\n",
    "residuals = pd.DataFrame(model_fit.resid)\n",
    "residuals.plot()\n",
    "pyplot.show()\n",
    "residuals.plot(kind='kde')\n",
    "pyplot.show()"
   ]
  },
  {
   "cell_type": "code",
   "execution_count": 316,
   "metadata": {},
   "outputs": [
    {
     "data": {
      "text/plain": [
       "(array([2119.10837156, 2263.30538239, 2403.12876506, 2545.39549517,\n",
       "        2688.60304938, 2833.16040899, 2979.06757397, 3126.32454434,\n",
       "        3274.9313201 , 3424.88790124, 3576.19428777, 3728.85047968,\n",
       "        3882.85647698, 4038.21227966, 4194.91788772, 4352.97330118,\n",
       "        4512.37852001, 4673.13354424, 4835.23837385, 4998.69300884,\n",
       "        5163.49744922, 5329.65169498, 5497.15574613, 5666.00960266,\n",
       "        5836.21326458, 6007.76673189, 6180.67000458, 6354.92308265,\n",
       "        6530.52596611, 6707.47865495, 6885.78114919, 7065.4334488 ,\n",
       "        7246.4355538 , 7428.78746419]),\n",
       " array([ 13.22122339,  20.24777912,  25.83189   ,  30.8552918 ,\n",
       "         35.70586374,  43.20605516,  52.99533667,  64.66088004,\n",
       "         77.87957039,  92.42290367, 108.13056695, 124.88714836,\n",
       "        142.60654704, 161.22219137, 180.68092375, 200.93910544,\n",
       "        221.96006811, 243.71239734, 266.16874275, 289.30497062,\n",
       "        313.09954492, 337.53306476, 362.58791147, 388.24797415,\n",
       "        414.49843262, 441.32558319, 468.71669674, 496.65990186,\n",
       "        525.14408737, 554.15882031, 583.69427631, 613.74117989,\n",
       "        644.29075299, 675.33467028]),\n",
       " array([[2093.19524989, 2145.02149324],\n",
       "        [2223.62046454, 2302.99030024],\n",
       "        [2352.499191  , 2453.75833911],\n",
       "        [2484.92023451, 2605.87075583],\n",
       "        [2618.62084242, 2758.58525635],\n",
       "        [2748.47809695, 2917.84272102],\n",
       "        [2875.19862275, 3082.93652519],\n",
       "        [2999.59154825, 3253.05754043],\n",
       "        [3122.290167  , 3427.5724732 ],\n",
       "        [3243.7423387 , 3606.03346378],\n",
       "        [3364.26227092, 3788.12630462],\n",
       "        [3484.07616676, 3973.6247926 ],\n",
       "        [3603.35278082, 4162.36017313],\n",
       "        [3722.22259106, 4354.20196826],\n",
       "        [3840.78978447, 4549.04599098],\n",
       "        [3959.13989143, 4746.80671093],\n",
       "        [4077.34478051, 4947.41225952],\n",
       "        [4195.46602287, 5150.8010656 ],\n",
       "        [4313.55722424, 5356.91952345],\n",
       "        [4431.66568587, 5565.72033181],\n",
       "        [4549.8336176 , 5777.16128084],\n",
       "        [4668.09904446, 5991.2043455 ],\n",
       "        [4786.49649841, 6207.81499385],\n",
       "        [4905.05755626, 6426.96164907],\n",
       "        [5023.811265  , 6648.61526417],\n",
       "        [5142.78448338, 6872.74898039],\n",
       "        [5262.00216001, 7099.33784914],\n",
       "        [5381.48756244, 7328.35860286],\n",
       "        [5501.26246818, 7559.78946404],\n",
       "        [5621.34732543, 7793.60998448],\n",
       "        [5741.76138963, 8029.80090874],\n",
       "        [5862.52284039, 8268.34405721],\n",
       "        [5983.64888237, 8509.22222524],\n",
       "        [6105.15583293, 8752.41909544]]))"
      ]
     },
     "execution_count": 316,
     "metadata": {},
     "output_type": "execute_result"
    }
   ],
   "source": [
    "death_for_next_5_day=pd.DataFrame(model_fit.forecast(34))\n",
    "model_fit.forecast(34)"
   ]
  },
  {
   "cell_type": "code",
   "execution_count": 317,
   "metadata": {
    "scrolled": true
   },
   "outputs": [
    {
     "data": {
      "text/html": [
       "<div>\n",
       "<style scoped>\n",
       "    .dataframe tbody tr th:only-of-type {\n",
       "        vertical-align: middle;\n",
       "    }\n",
       "\n",
       "    .dataframe tbody tr th {\n",
       "        vertical-align: top;\n",
       "    }\n",
       "\n",
       "    .dataframe thead th {\n",
       "        text-align: right;\n",
       "    }\n",
       "</style>\n",
       "<table border=\"1\" class=\"dataframe\">\n",
       "  <thead>\n",
       "    <tr style=\"text-align: right;\">\n",
       "      <th></th>\n",
       "      <th>0</th>\n",
       "      <th>1</th>\n",
       "      <th>2</th>\n",
       "      <th>3</th>\n",
       "      <th>4</th>\n",
       "      <th>5</th>\n",
       "      <th>6</th>\n",
       "      <th>7</th>\n",
       "      <th>8</th>\n",
       "      <th>9</th>\n",
       "      <th>...</th>\n",
       "      <th>24</th>\n",
       "      <th>25</th>\n",
       "      <th>26</th>\n",
       "      <th>27</th>\n",
       "      <th>28</th>\n",
       "      <th>29</th>\n",
       "      <th>30</th>\n",
       "      <th>31</th>\n",
       "      <th>32</th>\n",
       "      <th>33</th>\n",
       "    </tr>\n",
       "  </thead>\n",
       "  <tbody>\n",
       "    <tr>\n",
       "      <th>0</th>\n",
       "      <td>2119.11</td>\n",
       "      <td>2263.31</td>\n",
       "      <td>2403.13</td>\n",
       "      <td>2545.4</td>\n",
       "      <td>2688.6</td>\n",
       "      <td>2833.16</td>\n",
       "      <td>2979.07</td>\n",
       "      <td>3126.32</td>\n",
       "      <td>3274.93</td>\n",
       "      <td>3424.89</td>\n",
       "      <td>...</td>\n",
       "      <td>5836.21</td>\n",
       "      <td>6007.77</td>\n",
       "      <td>6180.67</td>\n",
       "      <td>6354.92</td>\n",
       "      <td>6530.53</td>\n",
       "      <td>6707.48</td>\n",
       "      <td>6885.78</td>\n",
       "      <td>7065.43</td>\n",
       "      <td>7246.44</td>\n",
       "      <td>7428.79</td>\n",
       "    </tr>\n",
       "    <tr>\n",
       "      <th>1</th>\n",
       "      <td>13.2212</td>\n",
       "      <td>20.2478</td>\n",
       "      <td>25.8319</td>\n",
       "      <td>30.8553</td>\n",
       "      <td>35.7059</td>\n",
       "      <td>43.2061</td>\n",
       "      <td>52.9953</td>\n",
       "      <td>64.6609</td>\n",
       "      <td>77.8796</td>\n",
       "      <td>92.4229</td>\n",
       "      <td>...</td>\n",
       "      <td>414.498</td>\n",
       "      <td>441.326</td>\n",
       "      <td>468.717</td>\n",
       "      <td>496.66</td>\n",
       "      <td>525.144</td>\n",
       "      <td>554.159</td>\n",
       "      <td>583.694</td>\n",
       "      <td>613.741</td>\n",
       "      <td>644.291</td>\n",
       "      <td>675.335</td>\n",
       "    </tr>\n",
       "    <tr>\n",
       "      <th>2</th>\n",
       "      <td>[2093.195249892449, 2145.02149323598]</td>\n",
       "      <td>[2223.620464539762, 2302.9903002359306]</td>\n",
       "      <td>[2352.499191002829, 2453.758339112172]</td>\n",
       "      <td>[2484.920234509042, 2605.8707558299707]</td>\n",
       "      <td>[2618.620842419384, 2758.585256350572]</td>\n",
       "      <td>[2748.478096952933, 2917.8427210183245]</td>\n",
       "      <td>[2875.1986227517987, 3082.936525191119]</td>\n",
       "      <td>[2999.591548252967, 3253.057540431969]</td>\n",
       "      <td>[3122.2901669993403, 3427.572473197972]</td>\n",
       "      <td>[3243.7423386951114, 3606.0334637849355]</td>\n",
       "      <td>...</td>\n",
       "      <td>[5023.811264995717, 6648.615264168322]</td>\n",
       "      <td>[5142.784483384384, 6872.748980388119]</td>\n",
       "      <td>[5262.0021600113305, 7099.337849139996]</td>\n",
       "      <td>[5381.487562439259, 7328.35860286125]</td>\n",
       "      <td>[5501.262468177397, 7559.789464042652]</td>\n",
       "      <td>[5621.347325428988, 7793.609984480959]</td>\n",
       "      <td>[5741.761389631177, 8029.800908739026]</td>\n",
       "      <td>[5862.522840388647, 8268.34405721217]</td>\n",
       "      <td>[5983.648882365722, 8509.222225236068]</td>\n",
       "      <td>[6105.155832930581, 8752.41909544254]</td>\n",
       "    </tr>\n",
       "  </tbody>\n",
       "</table>\n",
       "<p>3 rows × 34 columns</p>\n",
       "</div>"
      ],
      "text/plain": [
       "                                      0   \\\n",
       "0                                2119.11   \n",
       "1                                13.2212   \n",
       "2  [2093.195249892449, 2145.02149323598]   \n",
       "\n",
       "                                        1   \\\n",
       "0                                  2263.31   \n",
       "1                                  20.2478   \n",
       "2  [2223.620464539762, 2302.9903002359306]   \n",
       "\n",
       "                                       2   \\\n",
       "0                                 2403.13   \n",
       "1                                 25.8319   \n",
       "2  [2352.499191002829, 2453.758339112172]   \n",
       "\n",
       "                                        3   \\\n",
       "0                                   2545.4   \n",
       "1                                  30.8553   \n",
       "2  [2484.920234509042, 2605.8707558299707]   \n",
       "\n",
       "                                       4   \\\n",
       "0                                  2688.6   \n",
       "1                                 35.7059   \n",
       "2  [2618.620842419384, 2758.585256350572]   \n",
       "\n",
       "                                        5   \\\n",
       "0                                  2833.16   \n",
       "1                                  43.2061   \n",
       "2  [2748.478096952933, 2917.8427210183245]   \n",
       "\n",
       "                                        6   \\\n",
       "0                                  2979.07   \n",
       "1                                  52.9953   \n",
       "2  [2875.1986227517987, 3082.936525191119]   \n",
       "\n",
       "                                       7   \\\n",
       "0                                 3126.32   \n",
       "1                                 64.6609   \n",
       "2  [2999.591548252967, 3253.057540431969]   \n",
       "\n",
       "                                        8   \\\n",
       "0                                  3274.93   \n",
       "1                                  77.8796   \n",
       "2  [3122.2901669993403, 3427.572473197972]   \n",
       "\n",
       "                                         9   ...  \\\n",
       "0                                   3424.89  ...   \n",
       "1                                   92.4229  ...   \n",
       "2  [3243.7423386951114, 3606.0334637849355]  ...   \n",
       "\n",
       "                                       24  \\\n",
       "0                                 5836.21   \n",
       "1                                 414.498   \n",
       "2  [5023.811264995717, 6648.615264168322]   \n",
       "\n",
       "                                       25  \\\n",
       "0                                 6007.77   \n",
       "1                                 441.326   \n",
       "2  [5142.784483384384, 6872.748980388119]   \n",
       "\n",
       "                                        26  \\\n",
       "0                                  6180.67   \n",
       "1                                  468.717   \n",
       "2  [5262.0021600113305, 7099.337849139996]   \n",
       "\n",
       "                                      27  \\\n",
       "0                                6354.92   \n",
       "1                                 496.66   \n",
       "2  [5381.487562439259, 7328.35860286125]   \n",
       "\n",
       "                                       28  \\\n",
       "0                                 6530.53   \n",
       "1                                 525.144   \n",
       "2  [5501.262468177397, 7559.789464042652]   \n",
       "\n",
       "                                       29  \\\n",
       "0                                 6707.48   \n",
       "1                                 554.159   \n",
       "2  [5621.347325428988, 7793.609984480959]   \n",
       "\n",
       "                                       30  \\\n",
       "0                                 6885.78   \n",
       "1                                 583.694   \n",
       "2  [5741.761389631177, 8029.800908739026]   \n",
       "\n",
       "                                      31  \\\n",
       "0                                7065.43   \n",
       "1                                613.741   \n",
       "2  [5862.522840388647, 8268.34405721217]   \n",
       "\n",
       "                                       32  \\\n",
       "0                                 7246.44   \n",
       "1                                 644.291   \n",
       "2  [5983.648882365722, 8509.222225236068]   \n",
       "\n",
       "                                      33  \n",
       "0                                7428.79  \n",
       "1                                675.335  \n",
       "2  [6105.155832930581, 8752.41909544254]  \n",
       "\n",
       "[3 rows x 34 columns]"
      ]
     },
     "execution_count": 317,
     "metadata": {},
     "output_type": "execute_result"
    }
   ],
   "source": [
    "death_for_next_5_day"
   ]
  },
  {
   "cell_type": "code",
   "execution_count": 318,
   "metadata": {},
   "outputs": [],
   "source": [
    "a=time_s_df_Death['Death']"
   ]
  },
  {
   "cell_type": "code",
   "execution_count": 319,
   "metadata": {},
   "outputs": [
    {
     "data": {
      "image/png": "[encoded data removed]",
      "text/plain": [
       "<Figure size 432x288 with 1 Axes>"
      ]
     },
     "metadata": {
      "needs_background": "light"
     },
     "output_type": "display_data"
    }
   ],
   "source": [
    "\n",
    "forecast = model_fit.forecast(steps=28)[0]\n",
    "\n",
    "forecast = pd.DataFrame(forecast,index = test.index,columns=['Death'])\n",
    "\n",
    "#plot the predictions for validation set\n",
    "plt.plot(train, label='Train')\n",
    "plt.plot(test, label='Test')\n",
    "plt.plot(forecast, label='Prediction', color='black')\n",
    "plt.show()"
   ]
  },
  {
   "cell_type": "markdown",
   "metadata": {},
   "source": [
    "## know we Take Last Data Discharged cases of Covid Data "
   ]
  },
  {
   "cell_type": "code",
   "execution_count": 320,
   "metadata": {},
   "outputs": [
    {
     "data": {
      "text/plain": [
       "(-0.2409584816476705,\n",
       " 0.9334601038005738,\n",
       " 28,\n",
       " 2676,\n",
       " {'1%': -3.4327960328429366,\n",
       "  '5%': -2.862620675561911,\n",
       "  '10%': -2.5673452801573418},\n",
       " 47636.81129142897)"
      ]
     },
     "execution_count": 320,
     "metadata": {},
     "output_type": "execute_result"
    }
   ],
   "source": [
    "test_result=adfuller(covid_df.Migrated)\n",
    "test_result"
   ]
  },
  {
   "cell_type": "code",
   "execution_count": 321,
   "metadata": {},
   "outputs": [],
   "source": [
    "#Ho: It is non stationary\n",
    "#H1: It is stationary\n",
    "\n",
    "def adfuller_test(Total):\n",
    "    result=adfuller(Total)\n",
    "    labels = ['ADF Test Statistic','p-value','#Lags Used','Number of Observations Used']\n",
    "    for value,label in zip(result,labels):\n",
    "        print(label+' : '+str(value) )\n",
    "    if result[1] <= 0.05:\n",
    "        print(\"strong evidence against the null hypothesis(Ho), reject the null hypothesis. Data has no unit root and is stationary\")\n",
    "    else:\n",
    "        print(\"weak evidence against null hypothesis, time series has a unit root, indicating it is non-stationary \")\n"
   ]
  },
  {
   "cell_type": "code",
   "execution_count": 322,
   "metadata": {},
   "outputs": [
    {
     "name": "stdout",
     "output_type": "stream",
     "text": [
      "ADF Test Statistic : -0.2409584816476705\n",
      "p-value : 0.9334601038005738\n",
      "#Lags Used : 28\n",
      "Number of Observations Used : 2676\n",
      "weak evidence against null hypothesis, time series has a unit root, indicating it is non-stationary \n"
     ]
    }
   ],
   "source": [
    "adfuller_test(covid_df['Migrated'])"
   ]
  },
  {
   "cell_type": "code",
   "execution_count": 323,
   "metadata": {},
   "outputs": [],
   "source": [
    "covid_df['Migrated_new']=covid_df['Migrated']-covid_df['Migrated'].shift(2)"
   ]
  },
  {
   "cell_type": "code",
   "execution_count": 324,
   "metadata": {},
   "outputs": [
    {
     "name": "stdout",
     "output_type": "stream",
     "text": [
      "ADF Test Statistic : -24.221261729019016\n",
      "p-value : 0.0\n",
      "#Lags Used : 28\n",
      "Number of Observations Used : 2674\n",
      "strong evidence against the null hypothesis(Ho), reject the null hypothesis. Data has no unit root and is stationary\n"
     ]
    }
   ],
   "source": [
    "adfuller_test(covid_df['Migrated_new'].dropna())"
   ]
  },
  {
   "cell_type": "code",
   "execution_count": 325,
   "metadata": {},
   "outputs": [
    {
     "data": {
      "text/plain": [
       "<matplotlib.axes._subplots.AxesSubplot at 0x270cc34ccc0>"
      ]
     },
     "execution_count": 325,
     "metadata": {},
     "output_type": "execute_result"
    },
    {
     "data": {
      "image/png": "[encoded data removed]",
      "text/plain": [
       "<Figure size 432x288 with 1 Axes>"
      ]
     },
     "metadata": {
      "needs_background": "light"
     },
     "output_type": "display_data"
    }
   ],
   "source": [
    "covid_df['Migrated_new'].plot()"
   ]
  },
  {
   "cell_type": "code",
   "execution_count": 326,
   "metadata": {},
   "outputs": [
    {
     "data": {
      "image/png": "[encoded data removed]",
      "text/plain": [
       "<Figure size 432x288 with 1 Axes>"
      ]
     },
     "metadata": {
      "needs_background": "light"
     },
     "output_type": "display_data"
    }
   ],
   "source": [
    "from pandas.plotting import autocorrelation_plot\n",
    "autocorrelation_plot(covid_df.Migrated)\n",
    "plt.show()"
   ]
  },
  {
   "cell_type": "code",
   "execution_count": 327,
   "metadata": {},
   "outputs": [
    {
     "data": {
      "image/png": "[encoded data removed]",
      "text/plain": [
       "<Figure size 864x576 with 2 Axes>"
      ]
     },
     "metadata": {
      "needs_background": "light"
     },
     "output_type": "display_data"
    }
   ],
   "source": [
    "fig = plt.figure(figsize=(12,8))\n",
    "ax1 = fig.add_subplot(211)\n",
    "fig = sm.graphics.tsa.plot_acf(covid_df.Migrated_new.iloc[3:],lags=40,ax=ax1)\n",
    "ax2 = fig.add_subplot(212)\n",
    "fig = sm.graphics.tsa.plot_pacf(covid_df.Migrated_new.iloc[3:],lags=40,ax=ax2)"
   ]
  },
  {
   "cell_type": "code",
   "execution_count": 328,
   "metadata": {},
   "outputs": [],
   "source": [
    "from statsmodels.tsa.arima_model import ARIMA"
   ]
  },
  {
   "cell_type": "code",
   "execution_count": 329,
   "metadata": {},
   "outputs": [],
   "source": [
    "p_values=range(0,6)\n",
    "d_value=range(0,6)\n",
    "q_values=range(0,6)"
   ]
  },
  {
   "cell_type": "code",
   "execution_count": 330,
   "metadata": {},
   "outputs": [],
   "source": [
    "import warnings\n",
    "warnings.filterwarnings('ignore')"
   ]
  },
  {
   "cell_type": "code",
   "execution_count": 331,
   "metadata": {},
   "outputs": [],
   "source": [
    "from sklearn.metrics import mean_squared_error\n",
    "import numpy as np"
   ]
  },
  {
   "cell_type": "code",
   "execution_count": 332,
   "metadata": {},
   "outputs": [
    {
     "name": "stdout",
     "output_type": "stream",
     "text": [
      "ARIMA(0, 0, 1) RMSE=56797.32\n",
      "ARIMA(0, 0, 2) RMSE=52560.65\n",
      "ARIMA(0, 0, 3) RMSE=51907.71\n",
      "ARIMA(0, 0, 4) RMSE=49897.47\n",
      "ARIMA(0, 0, 5) RMSE=50466.23\n",
      "ARIMA(0, 1, 1) RMSE=49408.33\n",
      "ARIMA(0, 1, 2) RMSE=49049.78\n",
      "ARIMA(0, 1, 3) RMSE=49224.80\n",
      "ARIMA(0, 1, 4) RMSE=49118.90\n",
      "ARIMA(0, 1, 5) RMSE=48975.37\n",
      "ARIMA(0, 2, 1) RMSE=48795.48\n",
      "ARIMA(0, 2, 2) RMSE=48781.84\n",
      "ARIMA(0, 2, 3) RMSE=48783.54\n",
      "ARIMA(0, 2, 4) RMSE=48673.59\n",
      "ARIMA(0, 2, 5) RMSE=48683.87\n",
      "ARIMA(1, 0, 0) RMSE=49828.71\n",
      "ARIMA(1, 1, 0) RMSE=48806.30\n",
      "ARIMA(1, 2, 0) RMSE=48768.84\n",
      "ARIMA(1, 2, 1) RMSE=48789.38\n",
      "ARIMA(1, 2, 2) RMSE=48783.78\n",
      "ARIMA(1, 2, 3) RMSE=48741.02\n",
      "ARIMA(1, 2, 4) RMSE=48631.55\n",
      "ARIMA(1, 2, 5) RMSE=48689.83\n",
      "ARIMA(2, 0, 0) RMSE=48775.33\n",
      "ARIMA(2, 1, 0) RMSE=48792.04\n",
      "ARIMA(2, 2, 0) RMSE=48802.56\n",
      "ARIMA(2, 2, 1) RMSE=48796.62\n",
      "ARIMA(2, 2, 2) RMSE=48737.37\n",
      "ARIMA(2, 2, 5) RMSE=48595.19\n",
      "ARIMA(3, 1, 0) RMSE=48820.45\n",
      "ARIMA(3, 2, 0) RMSE=48776.99\n",
      "ARIMA(3, 2, 1) RMSE=48713.59\n",
      "ARIMA(3, 2, 5) RMSE=48533.10\n",
      "ARIMA(4, 1, 0) RMSE=48808.90\n",
      "ARIMA(4, 2, 0) RMSE=48739.08\n",
      "ARIMA(4, 2, 1) RMSE=48671.08\n",
      "ARIMA(4, 2, 3) RMSE=48604.84\n",
      "ARIMA(4, 2, 4) RMSE=48558.03\n",
      "ARIMA(5, 1, 0) RMSE=48756.99\n",
      "ARIMA(5, 2, 0) RMSE=48734.10\n",
      "ARIMA(5, 2, 1) RMSE=48661.11\n",
      "ARIMA(5, 2, 2) RMSE=48639.02\n",
      "ARIMA(5, 2, 3) RMSE=48640.28\n"
     ]
    }
   ],
   "source": [
    "for p in p_values:\n",
    "    for d in d_value:\n",
    "        for q in q_values:\n",
    "            order=(p,d,q)\n",
    "            train,test=time_s_df_migrated[0:101],time_s_df_migrated[101:129]\n",
    "            predications=list()\n",
    "            for i in range(len(test)):\n",
    "                try:\n",
    "                    model=ARIMA(train,order)\n",
    "                    model_fit=model.fit(disp=0)\n",
    "                    pred_y=model_fit.forecast()[0]\n",
    "                    predications.append(pred_y)\n",
    "                    error=np.sqrt(mean_squared_error(test,predications))\n",
    "                    print('ARIMA%s RMSE=%.2f'%(order,error))\n",
    "                except:\n",
    "                    continue\n",
    "                              "
   ]
  },
  {
   "cell_type": "code",
   "execution_count": 333,
   "metadata": {},
   "outputs": [
    {
     "data": {
      "text/html": [
       "<div>\n",
       "<style scoped>\n",
       "    .dataframe tbody tr th:only-of-type {\n",
       "        vertical-align: middle;\n",
       "    }\n",
       "\n",
       "    .dataframe tbody tr th {\n",
       "        vertical-align: top;\n",
       "    }\n",
       "\n",
       "    .dataframe thead th {\n",
       "        text-align: right;\n",
       "    }\n",
       "</style>\n",
       "<table border=\"1\" class=\"dataframe\">\n",
       "  <thead>\n",
       "    <tr style=\"text-align: right;\">\n",
       "      <th></th>\n",
       "      <th>Migrated</th>\n",
       "    </tr>\n",
       "    <tr>\n",
       "      <th>Date</th>\n",
       "      <th></th>\n",
       "    </tr>\n",
       "  </thead>\n",
       "  <tbody>\n",
       "    <tr>\n",
       "      <th>2020-01-30</th>\n",
       "      <td>0</td>\n",
       "    </tr>\n",
       "    <tr>\n",
       "      <th>2020-01-31</th>\n",
       "      <td>0</td>\n",
       "    </tr>\n",
       "    <tr>\n",
       "      <th>2020-02-01</th>\n",
       "      <td>0</td>\n",
       "    </tr>\n",
       "    <tr>\n",
       "      <th>2020-02-02</th>\n",
       "      <td>0</td>\n",
       "    </tr>\n",
       "    <tr>\n",
       "      <th>2020-02-03</th>\n",
       "      <td>0</td>\n",
       "    </tr>\n",
       "    <tr>\n",
       "      <th>...</th>\n",
       "      <td>...</td>\n",
       "    </tr>\n",
       "    <tr>\n",
       "      <th>2020-05-05</th>\n",
       "      <td>12727</td>\n",
       "    </tr>\n",
       "    <tr>\n",
       "      <th>2020-05-06</th>\n",
       "      <td>14183</td>\n",
       "    </tr>\n",
       "    <tr>\n",
       "      <th>2020-05-07</th>\n",
       "      <td>15267</td>\n",
       "    </tr>\n",
       "    <tr>\n",
       "      <th>2020-05-08</th>\n",
       "      <td>16540</td>\n",
       "    </tr>\n",
       "    <tr>\n",
       "      <th>2020-05-09</th>\n",
       "      <td>17847</td>\n",
       "    </tr>\n",
       "  </tbody>\n",
       "</table>\n",
       "<p>101 rows × 1 columns</p>\n",
       "</div>"
      ],
      "text/plain": [
       "            Migrated\n",
       "Date                \n",
       "2020-01-30         0\n",
       "2020-01-31         0\n",
       "2020-02-01         0\n",
       "2020-02-02         0\n",
       "2020-02-03         0\n",
       "...              ...\n",
       "2020-05-05     12727\n",
       "2020-05-06     14183\n",
       "2020-05-07     15267\n",
       "2020-05-08     16540\n",
       "2020-05-09     17847\n",
       "\n",
       "[101 rows x 1 columns]"
      ]
     },
     "execution_count": 333,
     "metadata": {},
     "output_type": "execute_result"
    }
   ],
   "source": [
    "train"
   ]
  },
  {
   "cell_type": "code",
   "execution_count": 334,
   "metadata": {},
   "outputs": [
    {
     "data": {
      "text/html": [
       "<div>\n",
       "<style scoped>\n",
       "    .dataframe tbody tr th:only-of-type {\n",
       "        vertical-align: middle;\n",
       "    }\n",
       "\n",
       "    .dataframe tbody tr th {\n",
       "        vertical-align: top;\n",
       "    }\n",
       "\n",
       "    .dataframe thead th {\n",
       "        text-align: right;\n",
       "    }\n",
       "</style>\n",
       "<table border=\"1\" class=\"dataframe\">\n",
       "  <thead>\n",
       "    <tr style=\"text-align: right;\">\n",
       "      <th></th>\n",
       "      <th>Migrated</th>\n",
       "    </tr>\n",
       "    <tr>\n",
       "      <th>Date</th>\n",
       "      <th></th>\n",
       "    </tr>\n",
       "  </thead>\n",
       "  <tbody>\n",
       "    <tr>\n",
       "      <th>2020-05-10</th>\n",
       "      <td>19358</td>\n",
       "    </tr>\n",
       "    <tr>\n",
       "      <th>2020-05-11</th>\n",
       "      <td>20917</td>\n",
       "    </tr>\n",
       "    <tr>\n",
       "      <th>2020-05-12</th>\n",
       "      <td>22455</td>\n",
       "    </tr>\n",
       "    <tr>\n",
       "      <th>2020-05-13</th>\n",
       "      <td>24386</td>\n",
       "    </tr>\n",
       "    <tr>\n",
       "      <th>2020-05-14</th>\n",
       "      <td>26235</td>\n",
       "    </tr>\n",
       "    <tr>\n",
       "      <th>2020-05-15</th>\n",
       "      <td>27920</td>\n",
       "    </tr>\n",
       "    <tr>\n",
       "      <th>2020-05-16</th>\n",
       "      <td>30153</td>\n",
       "    </tr>\n",
       "    <tr>\n",
       "      <th>2020-05-17</th>\n",
       "      <td>34109</td>\n",
       "    </tr>\n",
       "    <tr>\n",
       "      <th>2020-05-18</th>\n",
       "      <td>36824</td>\n",
       "    </tr>\n",
       "    <tr>\n",
       "      <th>2020-05-19</th>\n",
       "      <td>39174</td>\n",
       "    </tr>\n",
       "    <tr>\n",
       "      <th>2020-05-20</th>\n",
       "      <td>42298</td>\n",
       "    </tr>\n",
       "    <tr>\n",
       "      <th>2020-05-21</th>\n",
       "      <td>45300</td>\n",
       "    </tr>\n",
       "    <tr>\n",
       "      <th>2020-05-22</th>\n",
       "      <td>48534</td>\n",
       "    </tr>\n",
       "    <tr>\n",
       "      <th>2020-05-23</th>\n",
       "      <td>51784</td>\n",
       "    </tr>\n",
       "    <tr>\n",
       "      <th>2020-05-24</th>\n",
       "      <td>54441</td>\n",
       "    </tr>\n",
       "    <tr>\n",
       "      <th>2020-05-25</th>\n",
       "      <td>57721</td>\n",
       "    </tr>\n",
       "    <tr>\n",
       "      <th>2020-05-26</th>\n",
       "      <td>60491</td>\n",
       "    </tr>\n",
       "    <tr>\n",
       "      <th>2020-05-27</th>\n",
       "      <td>64426</td>\n",
       "    </tr>\n",
       "    <tr>\n",
       "      <th>2020-05-28</th>\n",
       "      <td>67692</td>\n",
       "    </tr>\n",
       "    <tr>\n",
       "      <th>2020-05-29</th>\n",
       "      <td>71106</td>\n",
       "    </tr>\n",
       "    <tr>\n",
       "      <th>2020-05-30</th>\n",
       "      <td>82370</td>\n",
       "    </tr>\n",
       "    <tr>\n",
       "      <th>2020-05-31</th>\n",
       "      <td>86984</td>\n",
       "    </tr>\n",
       "    <tr>\n",
       "      <th>2020-06-01</th>\n",
       "      <td>91819</td>\n",
       "    </tr>\n",
       "    <tr>\n",
       "      <th>2020-06-02</th>\n",
       "      <td>95527</td>\n",
       "    </tr>\n",
       "    <tr>\n",
       "      <th>2020-06-03</th>\n",
       "      <td>100303</td>\n",
       "    </tr>\n",
       "    <tr>\n",
       "      <th>2020-06-04</th>\n",
       "      <td>104107</td>\n",
       "    </tr>\n",
       "    <tr>\n",
       "      <th>2020-06-05</th>\n",
       "      <td>109462</td>\n",
       "    </tr>\n",
       "    <tr>\n",
       "      <th>2020-06-06</th>\n",
       "      <td>114073</td>\n",
       "    </tr>\n",
       "  </tbody>\n",
       "</table>\n",
       "</div>"
      ],
      "text/plain": [
       "            Migrated\n",
       "Date                \n",
       "2020-05-10     19358\n",
       "2020-05-11     20917\n",
       "2020-05-12     22455\n",
       "2020-05-13     24386\n",
       "2020-05-14     26235\n",
       "2020-05-15     27920\n",
       "2020-05-16     30153\n",
       "2020-05-17     34109\n",
       "2020-05-18     36824\n",
       "2020-05-19     39174\n",
       "2020-05-20     42298\n",
       "2020-05-21     45300\n",
       "2020-05-22     48534\n",
       "2020-05-23     51784\n",
       "2020-05-24     54441\n",
       "2020-05-25     57721\n",
       "2020-05-26     60491\n",
       "2020-05-27     64426\n",
       "2020-05-28     67692\n",
       "2020-05-29     71106\n",
       "2020-05-30     82370\n",
       "2020-05-31     86984\n",
       "2020-06-01     91819\n",
       "2020-06-02     95527\n",
       "2020-06-03    100303\n",
       "2020-06-04    104107\n",
       "2020-06-05    109462\n",
       "2020-06-06    114073"
      ]
     },
     "execution_count": 334,
     "metadata": {},
     "output_type": "execute_result"
    }
   ],
   "source": [
    "time_s_df_migrated[101:129]"
   ]
  },
  {
   "cell_type": "code",
   "execution_count": 335,
   "metadata": {},
   "outputs": [],
   "source": [
    "model=ARIMA(train,order=(3,2,5))\n",
    "model_fit=model.fit()"
   ]
  },
  {
   "cell_type": "code",
   "execution_count": 336,
   "metadata": {},
   "outputs": [
    {
     "data": {
      "text/html": [
       "<table class=\"simpletable\">\n",
       "<caption>ARIMA Model Results</caption>\n",
       "<tr>\n",
       "  <th>Dep. Variable:</th>    <td>D2.Migrated</td>   <th>  No. Observations:  </th>    <td>99</td>   \n",
       "</tr>\n",
       "<tr>\n",
       "  <th>Model:</th>          <td>ARIMA(3, 2, 5)</td>  <th>  Log Likelihood     </th> <td>-589.104</td>\n",
       "</tr>\n",
       "<tr>\n",
       "  <th>Method:</th>             <td>css-mle</td>     <th>  S.D. of innovations</th>  <td>89.102</td> \n",
       "</tr>\n",
       "<tr>\n",
       "  <th>Date:</th>          <td>Wed, 10 Jun 2020</td> <th>  AIC                </th> <td>1198.208</td>\n",
       "</tr>\n",
       "<tr>\n",
       "  <th>Time:</th>              <td>22:42:46</td>     <th>  BIC                </th> <td>1224.159</td>\n",
       "</tr>\n",
       "<tr>\n",
       "  <th>Sample:</th>           <td>02-01-2020</td>    <th>  HQIC               </th> <td>1208.707</td>\n",
       "</tr>\n",
       "<tr>\n",
       "  <th></th>                 <td>- 05-09-2020</td>   <th>                     </th>     <td> </td>   \n",
       "</tr>\n",
       "</table>\n",
       "<table class=\"simpletable\">\n",
       "<tr>\n",
       "          <td></td>             <th>coef</th>     <th>std err</th>      <th>z</th>      <th>P>|z|</th>  <th>[0.025</th>    <th>0.975]</th>  \n",
       "</tr>\n",
       "<tr>\n",
       "  <th>const</th>             <td>   27.8034</td> <td>   26.712</td> <td>    1.041</td> <td> 0.298</td> <td>  -24.551</td> <td>   80.157</td>\n",
       "</tr>\n",
       "<tr>\n",
       "  <th>ar.L1.D2.Migrated</th> <td>   -0.7120</td> <td>    0.120</td> <td>   -5.929</td> <td> 0.000</td> <td>   -0.947</td> <td>   -0.477</td>\n",
       "</tr>\n",
       "<tr>\n",
       "  <th>ar.L2.D2.Migrated</th> <td>    0.9563</td> <td>    0.035</td> <td>   26.970</td> <td> 0.000</td> <td>    0.887</td> <td>    1.026</td>\n",
       "</tr>\n",
       "<tr>\n",
       "  <th>ar.L3.D2.Migrated</th> <td>    0.7080</td> <td>    0.121</td> <td>    5.830</td> <td> 0.000</td> <td>    0.470</td> <td>    0.946</td>\n",
       "</tr>\n",
       "<tr>\n",
       "  <th>ma.L1.D2.Migrated</th> <td>    0.0254</td> <td>    0.047</td> <td>    0.538</td> <td> 0.590</td> <td>   -0.067</td> <td>    0.118</td>\n",
       "</tr>\n",
       "<tr>\n",
       "  <th>ma.L2.D2.Migrated</th> <td>   -1.5134</td> <td>      nan</td> <td>      nan</td> <td>   nan</td> <td>      nan</td> <td>      nan</td>\n",
       "</tr>\n",
       "<tr>\n",
       "  <th>ma.L3.D2.Migrated</th> <td>    0.1326</td> <td>    0.193</td> <td>    0.686</td> <td> 0.493</td> <td>   -0.247</td> <td>    0.512</td>\n",
       "</tr>\n",
       "<tr>\n",
       "  <th>ma.L4.D2.Migrated</th> <td>    0.7674</td> <td>      nan</td> <td>      nan</td> <td>   nan</td> <td>      nan</td> <td>      nan</td>\n",
       "</tr>\n",
       "<tr>\n",
       "  <th>ma.L5.D2.Migrated</th> <td>   -0.2041</td> <td>    0.126</td> <td>   -1.617</td> <td> 0.106</td> <td>   -0.451</td> <td>    0.043</td>\n",
       "</tr>\n",
       "</table>\n",
       "<table class=\"simpletable\">\n",
       "<caption>Roots</caption>\n",
       "<tr>\n",
       "    <td></td>   <th>            Real</th>  <th>         Imaginary</th> <th>         Modulus</th>  <th>        Frequency</th>\n",
       "</tr>\n",
       "<tr>\n",
       "  <th>AR.1</th> <td>           1.0142</td> <td>          +0.0000j</td> <td>           1.0142</td> <td>           0.0000</td>\n",
       "</tr>\n",
       "<tr>\n",
       "  <th>AR.2</th> <td>          -1.1086</td> <td>          +0.0000j</td> <td>           1.1086</td> <td>           0.5000</td>\n",
       "</tr>\n",
       "<tr>\n",
       "  <th>AR.3</th> <td>          -1.2563</td> <td>          +0.0000j</td> <td>           1.2563</td> <td>           0.5000</td>\n",
       "</tr>\n",
       "<tr>\n",
       "  <th>MA.1</th> <td>          -0.9649</td> <td>          -0.2628j</td> <td>           1.0000</td> <td>          -0.4577</td>\n",
       "</tr>\n",
       "<tr>\n",
       "  <th>MA.2</th> <td>          -0.9649</td> <td>          +0.2628j</td> <td>           1.0000</td> <td>           0.4577</td>\n",
       "</tr>\n",
       "<tr>\n",
       "  <th>MA.3</th> <td>           1.1801</td> <td>          -0.2808j</td> <td>           1.2131</td> <td>          -0.0372</td>\n",
       "</tr>\n",
       "<tr>\n",
       "  <th>MA.4</th> <td>           1.1801</td> <td>          +0.2808j</td> <td>           1.2131</td> <td>           0.0372</td>\n",
       "</tr>\n",
       "<tr>\n",
       "  <th>MA.5</th> <td>           3.3293</td> <td>          -0.0000j</td> <td>           3.3293</td> <td>          -0.0000</td>\n",
       "</tr>\n",
       "</table>"
      ],
      "text/plain": [
       "<class 'statsmodels.iolib.summary.Summary'>\n",
       "\"\"\"\n",
       "                             ARIMA Model Results                              \n",
       "==============================================================================\n",
       "Dep. Variable:            D2.Migrated   No. Observations:                   99\n",
       "Model:                 ARIMA(3, 2, 5)   Log Likelihood                -589.104\n",
       "Method:                       css-mle   S.D. of innovations             89.102\n",
       "Date:                Wed, 10 Jun 2020   AIC                           1198.208\n",
       "Time:                        22:42:46   BIC                           1224.159\n",
       "Sample:                    02-01-2020   HQIC                          1208.707\n",
       "                         - 05-09-2020                                         \n",
       "=====================================================================================\n",
       "                        coef    std err          z      P>|z|      [0.025      0.975]\n",
       "-------------------------------------------------------------------------------------\n",
       "const                27.8034     26.712      1.041      0.298     -24.551      80.157\n",
       "ar.L1.D2.Migrated    -0.7120      0.120     -5.929      0.000      -0.947      -0.477\n",
       "ar.L2.D2.Migrated     0.9563      0.035     26.970      0.000       0.887       1.026\n",
       "ar.L3.D2.Migrated     0.7080      0.121      5.830      0.000       0.470       0.946\n",
       "ma.L1.D2.Migrated     0.0254      0.047      0.538      0.590      -0.067       0.118\n",
       "ma.L2.D2.Migrated    -1.5134        nan        nan        nan         nan         nan\n",
       "ma.L3.D2.Migrated     0.1326      0.193      0.686      0.493      -0.247       0.512\n",
       "ma.L4.D2.Migrated     0.7674        nan        nan        nan         nan         nan\n",
       "ma.L5.D2.Migrated    -0.2041      0.126     -1.617      0.106      -0.451       0.043\n",
       "                                    Roots                                    \n",
       "=============================================================================\n",
       "                  Real          Imaginary           Modulus         Frequency\n",
       "-----------------------------------------------------------------------------\n",
       "AR.1            1.0142           +0.0000j            1.0142            0.0000\n",
       "AR.2           -1.1086           +0.0000j            1.1086            0.5000\n",
       "AR.3           -1.2563           +0.0000j            1.2563            0.5000\n",
       "MA.1           -0.9649           -0.2628j            1.0000           -0.4577\n",
       "MA.2           -0.9649           +0.2628j            1.0000            0.4577\n",
       "MA.3            1.1801           -0.2808j            1.2131           -0.0372\n",
       "MA.4            1.1801           +0.2808j            1.2131            0.0372\n",
       "MA.5            3.3293           -0.0000j            3.3293           -0.0000\n",
       "-----------------------------------------------------------------------------\n",
       "\"\"\""
      ]
     },
     "execution_count": 336,
     "metadata": {},
     "output_type": "execute_result"
    }
   ],
   "source": [
    "model_fit.summary()"
   ]
  },
  {
   "cell_type": "code",
   "execution_count": 337,
   "metadata": {},
   "outputs": [
    {
     "data": {
      "image/png": "[encoded data removed]",
      "text/plain": [
       "<Figure size 432x288 with 1 Axes>"
      ]
     },
     "metadata": {
      "needs_background": "light"
     },
     "output_type": "display_data"
    },
    {
     "data": {
      "image/png": "[encoded data removed]",
      "text/plain": [
       "<Figure size 432x288 with 1 Axes>"
      ]
     },
     "metadata": {
      "needs_background": "light"
     },
     "output_type": "display_data"
    }
   ],
   "source": [
    "from statsmodels.graphics.tsaplots import plot_acf, plot_pacf\n",
    "from matplotlib import pyplot\n",
    "residuals = pd.DataFrame(model_fit.resid)\n",
    "residuals.plot()\n",
    "pyplot.show()\n",
    "residuals.plot(kind='kde')\n",
    "pyplot.show()"
   ]
  },
  {
   "cell_type": "code",
   "execution_count": 338,
   "metadata": {
    "collapsed": true
   },
   "outputs": [
    {
     "data": {
      "text/plain": [
       "(array([ 19449.38113281,  20772.27514538,  22518.29156174,  24025.07488699,\n",
       "         25885.15658008,  27565.80123615,  29544.01795491,  31390.22349757,\n",
       "         33489.27742102,  35494.06350654,  37715.63216407,  39873.04219343,\n",
       "         42218.0289454 ,  44522.91109947,  46991.63075942,  49439.47377626,\n",
       "         52031.79202438,  54618.60030821,  57334.0396678 ,  60056.23710307,\n",
       "         62894.05834934,  65748.41338464,  68707.67863819,  71691.24535748,\n",
       "         74770.86733856,  77880.93870777,  81079.71940586,  84313.78990101,\n",
       "         87630.45106284,  90986.18660129,  94419.39383672,  97894.60744402,\n",
       "        101442.98931561, 105035.62133047]),\n",
       " array([  89.10184663,  147.08535876,  202.28266554,  271.73115579,\n",
       "         355.03473   ,  445.85109446,  557.10131876,  674.05644455,\n",
       "         814.00049998,  960.105756  , 1129.91940687, 1307.29858228,\n",
       "        1508.2902914 , 1718.55709193, 1952.02324574, 2196.47412802,\n",
       "        2463.63401305, 2743.35371226, 3045.32411171, 3361.24593973,\n",
       "        3699.03504947, 4051.97673103, 4426.48719184, 4817.17311291,\n",
       "        5229.20900655, 5658.28475124, 6108.55997045, 6576.60238717,\n",
       "        7065.74910964, 7573.27372092, 8101.85040115, 8649.31718611,\n",
       "        9217.81583213, 9805.63397185]),\n",
       " array([[ 19274.74472246,  19624.01754316],\n",
       "        [ 20483.99313955,  21060.5571512 ],\n",
       "        [ 22121.82482257,  22914.7583009 ],\n",
       "        [ 23492.49160817,  24557.65816582],\n",
       "        [ 25189.30129602,  26581.01186415],\n",
       "        [ 26691.94914854,  28439.65332376],\n",
       "        [ 28452.11943439,  30635.91647542],\n",
       "        [ 30069.09714271,  32711.34985244],\n",
       "        [ 31893.86575766,  35084.68908439],\n",
       "        [ 33612.29080343,  37375.83620964],\n",
       "        [ 35501.03082118,  39930.23350697],\n",
       "        [ 37310.78405512,  42435.30033174],\n",
       "        [ 39261.83429603,  45174.22359477],\n",
       "        [ 41154.60109391,  47891.22110504],\n",
       "        [ 43165.73550078,  50817.52601806],\n",
       "        [ 45134.46359237,  53744.48396014],\n",
       "        [ 47203.15808772,  56860.42596104],\n",
       "        [ 49241.72583533,  59995.47478108],\n",
       "        [ 51365.31408759,  63302.76524801],\n",
       "        [ 53468.31611802,  66644.15808812],\n",
       "        [ 55644.08287481,  70144.03382386],\n",
       "        [ 57806.68492563,  73690.14184364],\n",
       "        [ 60031.92316415,  77383.43411224],\n",
       "        [ 62249.75954888,  81132.73116608],\n",
       "        [ 64521.80601809,  85019.92865903],\n",
       "        [ 66790.90438106,  88970.97303448],\n",
       "        [ 69107.16186637,  93052.27694535],\n",
       "        [ 71423.88608151,  97203.69372051],\n",
       "        [ 73781.83728416, 101479.06484153],\n",
       "        [ 76142.84286323, 105829.53033935],\n",
       "        [ 78540.05884234, 110298.7288311 ],\n",
       "        [ 80942.25726837, 114846.95761966],\n",
       "        [ 83376.40226851, 119509.5763627 ],\n",
       "        [ 85816.93190006, 124254.31076087]]))"
      ]
     },
     "execution_count": 338,
     "metadata": {},
     "output_type": "execute_result"
    }
   ],
   "source": [
    "Mig_for_next_5_day=pd.DataFrame(model_fit.forecast(34))\n",
    "model_fit.forecast(34)"
   ]
  },
  {
   "cell_type": "code",
   "execution_count": 339,
   "metadata": {},
   "outputs": [
    {
     "data": {
      "text/html": [
       "<div>\n",
       "<style scoped>\n",
       "    .dataframe tbody tr th:only-of-type {\n",
       "        vertical-align: middle;\n",
       "    }\n",
       "\n",
       "    .dataframe tbody tr th {\n",
       "        vertical-align: top;\n",
       "    }\n",
       "\n",
       "    .dataframe thead th {\n",
       "        text-align: right;\n",
       "    }\n",
       "</style>\n",
       "<table border=\"1\" class=\"dataframe\">\n",
       "  <thead>\n",
       "    <tr style=\"text-align: right;\">\n",
       "      <th></th>\n",
       "      <th>0</th>\n",
       "      <th>1</th>\n",
       "      <th>2</th>\n",
       "      <th>3</th>\n",
       "      <th>4</th>\n",
       "      <th>5</th>\n",
       "      <th>6</th>\n",
       "      <th>7</th>\n",
       "      <th>8</th>\n",
       "      <th>9</th>\n",
       "      <th>...</th>\n",
       "      <th>24</th>\n",
       "      <th>25</th>\n",
       "      <th>26</th>\n",
       "      <th>27</th>\n",
       "      <th>28</th>\n",
       "      <th>29</th>\n",
       "      <th>30</th>\n",
       "      <th>31</th>\n",
       "      <th>32</th>\n",
       "      <th>33</th>\n",
       "    </tr>\n",
       "  </thead>\n",
       "  <tbody>\n",
       "    <tr>\n",
       "      <th>0</th>\n",
       "      <td>19449.4</td>\n",
       "      <td>20772.3</td>\n",
       "      <td>22518.3</td>\n",
       "      <td>24025.1</td>\n",
       "      <td>25885.2</td>\n",
       "      <td>27565.8</td>\n",
       "      <td>29544</td>\n",
       "      <td>31390.2</td>\n",
       "      <td>33489.3</td>\n",
       "      <td>35494.1</td>\n",
       "      <td>...</td>\n",
       "      <td>74770.9</td>\n",
       "      <td>77880.9</td>\n",
       "      <td>81079.7</td>\n",
       "      <td>84313.8</td>\n",
       "      <td>87630.5</td>\n",
       "      <td>90986.2</td>\n",
       "      <td>94419.4</td>\n",
       "      <td>97894.6</td>\n",
       "      <td>101443</td>\n",
       "      <td>105036</td>\n",
       "    </tr>\n",
       "    <tr>\n",
       "      <th>1</th>\n",
       "      <td>89.1018</td>\n",
       "      <td>147.085</td>\n",
       "      <td>202.283</td>\n",
       "      <td>271.731</td>\n",
       "      <td>355.035</td>\n",
       "      <td>445.851</td>\n",
       "      <td>557.101</td>\n",
       "      <td>674.056</td>\n",
       "      <td>814</td>\n",
       "      <td>960.106</td>\n",
       "      <td>...</td>\n",
       "      <td>5229.21</td>\n",
       "      <td>5658.28</td>\n",
       "      <td>6108.56</td>\n",
       "      <td>6576.6</td>\n",
       "      <td>7065.75</td>\n",
       "      <td>7573.27</td>\n",
       "      <td>8101.85</td>\n",
       "      <td>8649.32</td>\n",
       "      <td>9217.82</td>\n",
       "      <td>9805.63</td>\n",
       "    </tr>\n",
       "    <tr>\n",
       "      <th>2</th>\n",
       "      <td>[19274.74472246377, 19624.017543163714]</td>\n",
       "      <td>[20483.99313955071, 21060.55715120255]</td>\n",
       "      <td>[22121.824822574807, 22914.758300895304]</td>\n",
       "      <td>[23492.4916081664, 24557.658165822646]</td>\n",
       "      <td>[25189.301296015557, 26581.011864150907]</td>\n",
       "      <td>[26691.949148541888, 28439.65332376298]</td>\n",
       "      <td>[28452.11943439452, 30635.91647542293]</td>\n",
       "      <td>[30069.09714270684, 32711.34985243683]</td>\n",
       "      <td>[31893.865757656862, 35084.68908438552]</td>\n",
       "      <td>[33612.2908034306, 37375.836209641595]</td>\n",
       "      <td>...</td>\n",
       "      <td>[64521.80601809417, 85019.9286590278]</td>\n",
       "      <td>[66790.90438105656, 88970.97303447603]</td>\n",
       "      <td>[69107.16186637395, 93052.27694535484]</td>\n",
       "      <td>[71423.88608151412, 97203.69372050633]</td>\n",
       "      <td>[73781.83728416025, 101479.06484152508]</td>\n",
       "      <td>[76142.8428632308, 105829.530339353]</td>\n",
       "      <td>[78540.05884234204, 110298.72883110312]</td>\n",
       "      <td>[80942.25726837221, 114846.95761965918]</td>\n",
       "      <td>[83376.40226851248, 119509.57636269859]</td>\n",
       "      <td>[85816.93190006402, 124254.31076087282]</td>\n",
       "    </tr>\n",
       "  </tbody>\n",
       "</table>\n",
       "<p>3 rows × 34 columns</p>\n",
       "</div>"
      ],
      "text/plain": [
       "                                        0   \\\n",
       "0                                  19449.4   \n",
       "1                                  89.1018   \n",
       "2  [19274.74472246377, 19624.017543163714]   \n",
       "\n",
       "                                       1   \\\n",
       "0                                 20772.3   \n",
       "1                                 147.085   \n",
       "2  [20483.99313955071, 21060.55715120255]   \n",
       "\n",
       "                                         2   \\\n",
       "0                                   22518.3   \n",
       "1                                   202.283   \n",
       "2  [22121.824822574807, 22914.758300895304]   \n",
       "\n",
       "                                       3   \\\n",
       "0                                 24025.1   \n",
       "1                                 271.731   \n",
       "2  [23492.4916081664, 24557.658165822646]   \n",
       "\n",
       "                                         4   \\\n",
       "0                                   25885.2   \n",
       "1                                   355.035   \n",
       "2  [25189.301296015557, 26581.011864150907]   \n",
       "\n",
       "                                        5   \\\n",
       "0                                  27565.8   \n",
       "1                                  445.851   \n",
       "2  [26691.949148541888, 28439.65332376298]   \n",
       "\n",
       "                                       6   \\\n",
       "0                                   29544   \n",
       "1                                 557.101   \n",
       "2  [28452.11943439452, 30635.91647542293]   \n",
       "\n",
       "                                       7   \\\n",
       "0                                 31390.2   \n",
       "1                                 674.056   \n",
       "2  [30069.09714270684, 32711.34985243683]   \n",
       "\n",
       "                                        8   \\\n",
       "0                                  33489.3   \n",
       "1                                      814   \n",
       "2  [31893.865757656862, 35084.68908438552]   \n",
       "\n",
       "                                       9   ...  \\\n",
       "0                                 35494.1  ...   \n",
       "1                                 960.106  ...   \n",
       "2  [33612.2908034306, 37375.836209641595]  ...   \n",
       "\n",
       "                                      24  \\\n",
       "0                                74770.9   \n",
       "1                                5229.21   \n",
       "2  [64521.80601809417, 85019.9286590278]   \n",
       "\n",
       "                                       25  \\\n",
       "0                                 77880.9   \n",
       "1                                 5658.28   \n",
       "2  [66790.90438105656, 88970.97303447603]   \n",
       "\n",
       "                                       26  \\\n",
       "0                                 81079.7   \n",
       "1                                 6108.56   \n",
       "2  [69107.16186637395, 93052.27694535484]   \n",
       "\n",
       "                                       27  \\\n",
       "0                                 84313.8   \n",
       "1                                  6576.6   \n",
       "2  [71423.88608151412, 97203.69372050633]   \n",
       "\n",
       "                                        28  \\\n",
       "0                                  87630.5   \n",
       "1                                  7065.75   \n",
       "2  [73781.83728416025, 101479.06484152508]   \n",
       "\n",
       "                                     29  \\\n",
       "0                               90986.2   \n",
       "1                               7573.27   \n",
       "2  [76142.8428632308, 105829.530339353]   \n",
       "\n",
       "                                        30  \\\n",
       "0                                  94419.4   \n",
       "1                                  8101.85   \n",
       "2  [78540.05884234204, 110298.72883110312]   \n",
       "\n",
       "                                        31  \\\n",
       "0                                  97894.6   \n",
       "1                                  8649.32   \n",
       "2  [80942.25726837221, 114846.95761965918]   \n",
       "\n",
       "                                        32  \\\n",
       "0                                   101443   \n",
       "1                                  9217.82   \n",
       "2  [83376.40226851248, 119509.57636269859]   \n",
       "\n",
       "                                        33  \n",
       "0                                   105036  \n",
       "1                                  9805.63  \n",
       "2  [85816.93190006402, 124254.31076087282]  \n",
       "\n",
       "[3 rows x 34 columns]"
      ]
     },
     "execution_count": 339,
     "metadata": {},
     "output_type": "execute_result"
    }
   ],
   "source": [
    "Mig_for_next_5_day"
   ]
  },
  {
   "cell_type": "code",
   "execution_count": 340,
   "metadata": {},
   "outputs": [
    {
     "data": {
      "image/png": "[encoded data removed]",
      "text/plain": [
       "<Figure size 432x288 with 1 Axes>"
      ]
     },
     "metadata": {
      "needs_background": "light"
     },
     "output_type": "display_data"
    }
   ],
   "source": [
    "forecast = model_fit.forecast(steps=28)[0]\n",
    "\n",
    "forecast = pd.DataFrame(forecast,index = test.index,columns=['Death'])\n",
    "\n",
    "#plot the predictions for validation set\n",
    "plt.plot(train, label='Train')\n",
    "plt.plot(test, label='Test')\n",
    "plt.plot(forecast, label='Prediction', color='black')\n",
    "plt.show()"
   ]
  },
  {
   "cell_type": "code",
   "execution_count": 341,
   "metadata": {},
   "outputs": [
    {
     "data": {
      "text/html": [
       "<div>\n",
       "<style scoped>\n",
       "    .dataframe tbody tr th:only-of-type {\n",
       "        vertical-align: middle;\n",
       "    }\n",
       "\n",
       "    .dataframe tbody tr th {\n",
       "        vertical-align: top;\n",
       "    }\n",
       "\n",
       "    .dataframe thead th {\n",
       "        text-align: right;\n",
       "    }\n",
       "</style>\n",
       "<table border=\"1\" class=\"dataframe\">\n",
       "  <thead>\n",
       "    <tr style=\"text-align: right;\">\n",
       "      <th></th>\n",
       "      <th>0</th>\n",
       "      <th>1</th>\n",
       "      <th>2</th>\n",
       "      <th>3</th>\n",
       "      <th>4</th>\n",
       "      <th>5</th>\n",
       "      <th>6</th>\n",
       "      <th>7</th>\n",
       "      <th>8</th>\n",
       "      <th>9</th>\n",
       "      <th>...</th>\n",
       "      <th>24</th>\n",
       "      <th>25</th>\n",
       "      <th>26</th>\n",
       "      <th>27</th>\n",
       "      <th>28</th>\n",
       "      <th>29</th>\n",
       "      <th>30</th>\n",
       "      <th>31</th>\n",
       "      <th>32</th>\n",
       "      <th>33</th>\n",
       "    </tr>\n",
       "  </thead>\n",
       "  <tbody>\n",
       "    <tr>\n",
       "      <th>0</th>\n",
       "      <td>63296.8</td>\n",
       "      <td>66724.9</td>\n",
       "      <td>70281.5</td>\n",
       "      <td>73930.6</td>\n",
       "      <td>77486.1</td>\n",
       "      <td>81185.8</td>\n",
       "      <td>84881.5</td>\n",
       "      <td>88583</td>\n",
       "      <td>92379</td>\n",
       "      <td>96160.7</td>\n",
       "      <td>...</td>\n",
       "      <td>157333</td>\n",
       "      <td>161689</td>\n",
       "      <td>166080</td>\n",
       "      <td>170507</td>\n",
       "      <td>174967</td>\n",
       "      <td>179463</td>\n",
       "      <td>183994</td>\n",
       "      <td>188559</td>\n",
       "      <td>193160</td>\n",
       "      <td>197795</td>\n",
       "    </tr>\n",
       "    <tr>\n",
       "      <th>1</th>\n",
       "      <td>216.127</td>\n",
       "      <td>360.506</td>\n",
       "      <td>562.202</td>\n",
       "      <td>833.238</td>\n",
       "      <td>1098.73</td>\n",
       "      <td>1414.31</td>\n",
       "      <td>1755.03</td>\n",
       "      <td>2108.94</td>\n",
       "      <td>2498.02</td>\n",
       "      <td>2901.44</td>\n",
       "      <td>...</td>\n",
       "      <td>11018</td>\n",
       "      <td>11673.9</td>\n",
       "      <td>12342.3</td>\n",
       "      <td>13023.1</td>\n",
       "      <td>13715.9</td>\n",
       "      <td>14420.6</td>\n",
       "      <td>15137</td>\n",
       "      <td>15864.8</td>\n",
       "      <td>16604</td>\n",
       "      <td>17354.3</td>\n",
       "    </tr>\n",
       "    <tr>\n",
       "      <th>2</th>\n",
       "      <td>[62873.18032861694, 63720.38242131424]</td>\n",
       "      <td>[66018.33878185076, 67431.49802228599]</td>\n",
       "      <td>[69179.65364728648, 71383.444321993]</td>\n",
       "      <td>[72297.47836644389, 75563.71006441372]</td>\n",
       "      <td>[75332.63946164667, 79639.57277285101]</td>\n",
       "      <td>[78413.84239710963, 83957.81772804234]</td>\n",
       "      <td>[81441.64880704878, 88321.25156197995]</td>\n",
       "      <td>[84449.54799677078, 92716.42207428555]</td>\n",
       "      <td>[87482.95259831303, 97274.99347770862]</td>\n",
       "      <td>[90474.01876385455, 101847.45494899884]</td>\n",
       "      <td>...</td>\n",
       "      <td>[135738.10940055206, 178927.96777920198]</td>\n",
       "      <td>[138808.50188941782, 184569.37098333018]</td>\n",
       "      <td>[141889.65645562866, 190270.51474449996]</td>\n",
       "      <td>[144982.0960497137, 196031.70707953357]</td>\n",
       "      <td>[148084.694385333, 201849.90926167864]</td>\n",
       "      <td>[151199.60470017418, 207727.1997089836]</td>\n",
       "      <td>[154326.25941441645, 213662.08859792224]</td>\n",
       "      <td>[157464.9388967175, 219653.8060621363]</td>\n",
       "      <td>[160616.74356284528, 225703.20397927833]</td>\n",
       "      <td>[163781.20381587057, 231808.83592400176]</td>\n",
       "    </tr>\n",
       "  </tbody>\n",
       "</table>\n",
       "<p>3 rows × 34 columns</p>\n",
       "</div>"
      ],
      "text/plain": [
       "                                       0   \\\n",
       "0                                 63296.8   \n",
       "1                                 216.127   \n",
       "2  [62873.18032861694, 63720.38242131424]   \n",
       "\n",
       "                                       1   \\\n",
       "0                                 66724.9   \n",
       "1                                 360.506   \n",
       "2  [66018.33878185076, 67431.49802228599]   \n",
       "\n",
       "                                     2   \\\n",
       "0                               70281.5   \n",
       "1                               562.202   \n",
       "2  [69179.65364728648, 71383.444321993]   \n",
       "\n",
       "                                       3   \\\n",
       "0                                 73930.6   \n",
       "1                                 833.238   \n",
       "2  [72297.47836644389, 75563.71006441372]   \n",
       "\n",
       "                                       4   \\\n",
       "0                                 77486.1   \n",
       "1                                 1098.73   \n",
       "2  [75332.63946164667, 79639.57277285101]   \n",
       "\n",
       "                                       5   \\\n",
       "0                                 81185.8   \n",
       "1                                 1414.31   \n",
       "2  [78413.84239710963, 83957.81772804234]   \n",
       "\n",
       "                                       6   \\\n",
       "0                                 84881.5   \n",
       "1                                 1755.03   \n",
       "2  [81441.64880704878, 88321.25156197995]   \n",
       "\n",
       "                                       7   \\\n",
       "0                                   88583   \n",
       "1                                 2108.94   \n",
       "2  [84449.54799677078, 92716.42207428555]   \n",
       "\n",
       "                                       8   \\\n",
       "0                                   92379   \n",
       "1                                 2498.02   \n",
       "2  [87482.95259831303, 97274.99347770862]   \n",
       "\n",
       "                                        9   ...  \\\n",
       "0                                  96160.7  ...   \n",
       "1                                  2901.44  ...   \n",
       "2  [90474.01876385455, 101847.45494899884]  ...   \n",
       "\n",
       "                                         24  \\\n",
       "0                                    157333   \n",
       "1                                     11018   \n",
       "2  [135738.10940055206, 178927.96777920198]   \n",
       "\n",
       "                                         25  \\\n",
       "0                                    161689   \n",
       "1                                   11673.9   \n",
       "2  [138808.50188941782, 184569.37098333018]   \n",
       "\n",
       "                                         26  \\\n",
       "0                                    166080   \n",
       "1                                   12342.3   \n",
       "2  [141889.65645562866, 190270.51474449996]   \n",
       "\n",
       "                                        27  \\\n",
       "0                                   170507   \n",
       "1                                  13023.1   \n",
       "2  [144982.0960497137, 196031.70707953357]   \n",
       "\n",
       "                                       28  \\\n",
       "0                                  174967   \n",
       "1                                 13715.9   \n",
       "2  [148084.694385333, 201849.90926167864]   \n",
       "\n",
       "                                        29  \\\n",
       "0                                   179463   \n",
       "1                                  14420.6   \n",
       "2  [151199.60470017418, 207727.1997089836]   \n",
       "\n",
       "                                         30  \\\n",
       "0                                    183994   \n",
       "1                                     15137   \n",
       "2  [154326.25941441645, 213662.08859792224]   \n",
       "\n",
       "                                       31  \\\n",
       "0                                  188559   \n",
       "1                                 15864.8   \n",
       "2  [157464.9388967175, 219653.8060621363]   \n",
       "\n",
       "                                         32  \\\n",
       "0                                    193160   \n",
       "1                                     16604   \n",
       "2  [160616.74356284528, 225703.20397927833]   \n",
       "\n",
       "                                         33  \n",
       "0                                    197795  \n",
       "1                                   17354.3  \n",
       "2  [163781.20381587057, 231808.83592400176]  \n",
       "\n",
       "[3 rows x 34 columns]"
      ]
     },
     "execution_count": 341,
     "metadata": {},
     "output_type": "execute_result"
    }
   ],
   "source": []
  },
  {
   "cell_type": "code",
   "execution_count": null,
   "metadata": {},
   "outputs": [],
   "source": []
  },
  {
   "cell_type": "code",
   "execution_count": null,
   "metadata": {},
   "outputs": [],
   "source": []
  },
  {
   "cell_type": "code",
   "execution_count": null,
   "metadata": {},
   "outputs": [],
   "source": []
  }
 ],
 "metadata": {
  "kernelspec": {
   "display_name": "Python 3",
   "language": "python",
   "name": "python3"
  },
  "language_info": {
   "codemirror_mode": {
    "name": "ipython",
    "version": 3
   },
   "file_extension": ".py",
   "mimetype": "text/x-python",
   "name": "python",
   "nbconvert_exporter": "python",
   "pygments_lexer": "ipython3",
   "version": "3.7.1"
  }
 },
 "nbformat": 4,
 "nbformat_minor": 4
}
